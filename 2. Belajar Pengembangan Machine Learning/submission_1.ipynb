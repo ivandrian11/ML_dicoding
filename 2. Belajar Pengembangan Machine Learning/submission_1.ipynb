{
  "nbformat": 4,
  "nbformat_minor": 0,
  "metadata": {
    "colab": {
      "name": "submission_nlp_ande_.ipynb",
      "provenance": [],
      "collapsed_sections": []
    },
    "kernelspec": {
      "name": "python3",
      "display_name": "Python 3"
    },
    "language_info": {
      "name": "python"
    },
    "accelerator": "GPU"
  },
  "cells": [
    {
      "cell_type": "code",
      "metadata": {
        "id": "aVcfZ2NQh8Bc"
      },
      "source": [
        "import tensorflow as tf\n",
        "from tensorflow.keras.preprocessing.text import Tokenizer\n",
        "from tensorflow.keras.preprocessing.sequence import pad_sequences\n",
        "from sklearn.model_selection import train_test_split\n",
        "import numpy as np\n",
        "import pandas as pd\n",
        "import matplotlib.pyplot as plt"
      ],
      "execution_count": null,
      "outputs": []
    },
    {
      "cell_type": "markdown",
      "metadata": {
        "id": "zgCmTBexzS6x"
      },
      "source": [
        "# Connect to Kaggle"
      ]
    },
    {
      "cell_type": "code",
      "metadata": {
        "id": "GbVngK3c9a6F"
      },
      "source": [
        " !pip install -q kaggle"
      ],
      "execution_count": null,
      "outputs": []
    },
    {
      "cell_type": "code",
      "metadata": {
        "id": "J7lhYBSk-pd8"
      },
      "source": [
        "from google.colab import files\n",
        "\n",
        "files.upload() # upload API kaggle"
      ],
      "execution_count": null,
      "outputs": []
    },
    {
      "cell_type": "code",
      "metadata": {
        "id": "v63N4U_p-r9S"
      },
      "source": [
        "!mkdir ~/.kaggle # membuat direktori kaggle\n",
        "\n",
        "!cp kaggle.json ~/.kaggle/ # copy file yang diupload ke direktori yang dibuat\n",
        "\n",
        "!chmod 600 ~/.kaggle/kaggle.json # mengubah izin file\n",
        "\n",
        "!mkdir dataset # buat direktori dataset"
      ],
      "execution_count": null,
      "outputs": []
    },
    {
      "cell_type": "markdown",
      "metadata": {
        "id": "w5XTsDBJiSXw"
      },
      "source": [
        "# Load Dataset"
      ]
    },
    {
      "cell_type": "code",
      "metadata": {
        "id": "DUF2lUEpiQ_Q"
      },
      "source": [
        "!kaggle datasets download -d charanpuvvala/company-classification\n",
        "\n",
        "!unzip company-classification.zip -d dataset"
      ],
      "execution_count": null,
      "outputs": []
    },
    {
      "cell_type": "code",
      "metadata": {
        "colab": {
          "base_uri": "https://localhost:8080/",
          "height": 496
        },
        "id": "GVqk5TOZiyAC",
        "outputId": "640000ae-22a1-4853-8c0a-7ea056a11cc2"
      },
      "source": [
        "df = pd.read_csv('/content/dataset/classification-dataset-v1.csv')\n",
        "\n",
        "df.head()"
      ],
      "execution_count": null,
      "outputs": [
        {
          "output_type": "execute_result",
          "data": {
            "text/html": [
              "<div>\n",
              "<style scoped>\n",
              "    .dataframe tbody tr th:only-of-type {\n",
              "        vertical-align: middle;\n",
              "    }\n",
              "\n",
              "    .dataframe tbody tr th {\n",
              "        vertical-align: top;\n",
              "    }\n",
              "\n",
              "    .dataframe thead th {\n",
              "        text-align: right;\n",
              "    }\n",
              "</style>\n",
              "<table border=\"1\" class=\"dataframe\">\n",
              "  <thead>\n",
              "    <tr style=\"text-align: right;\">\n",
              "      <th></th>\n",
              "      <th>Category</th>\n",
              "      <th>website</th>\n",
              "      <th>company_name</th>\n",
              "      <th>homepage_text</th>\n",
              "      <th>h1</th>\n",
              "      <th>h2</th>\n",
              "      <th>h3</th>\n",
              "      <th>nav_link_text</th>\n",
              "      <th>meta_keywords</th>\n",
              "      <th>meta_description</th>\n",
              "    </tr>\n",
              "  </thead>\n",
              "  <tbody>\n",
              "    <tr>\n",
              "      <th>0</th>\n",
              "      <td>Commercial Services &amp; Supplies</td>\n",
              "      <td>bipelectric.com</td>\n",
              "      <td>bip dipietro electric inc</td>\n",
              "      <td>Electrici...</td>\n",
              "      <td>NaN</td>\n",
              "      <td>NaN</td>\n",
              "      <td>NaN</td>\n",
              "      <td>NaN</td>\n",
              "      <td>electricians vero beach, vero beach electrical...</td>\n",
              "      <td>Providing quality, reliable full service resid...</td>\n",
              "    </tr>\n",
              "    <tr>\n",
              "      <th>1</th>\n",
              "      <td>Healthcare</td>\n",
              "      <td>eliasmedical.com</td>\n",
              "      <td>elias medical</td>\n",
              "      <td>site map | en español    Elias Medical   h...</td>\n",
              "      <td>Offering Bakersfield family medical care from ...</td>\n",
              "      <td>Welcome to ELIAS MEDICAL#sep#Family Medical Pr...</td>\n",
              "      <td>Get To Know Elias Medical#sep#Family Medical P...</td>\n",
              "      <td>NaN</td>\n",
              "      <td>Elias Medical bakersfield ca family doctor med...</td>\n",
              "      <td>For the best value in Bakersfield skin care tr...</td>\n",
              "    </tr>\n",
              "    <tr>\n",
              "      <th>2</th>\n",
              "      <td>Commercial Services &amp; Supplies</td>\n",
              "      <td>koopsoverheaddoors.com</td>\n",
              "      <td>koops overhead doors</td>\n",
              "      <td>Home  About Us  Garage Door Repair &amp; Servi...</td>\n",
              "      <td>NaN</td>\n",
              "      <td>Customer Reviews#sep#Welcome to Koops Overhead...</td>\n",
              "      <td>NaN</td>\n",
              "      <td>NaN</td>\n",
              "      <td>Koops Overhead Doors, Albany Garage Doors, Tro...</td>\n",
              "      <td>Koops Overhead Doors specializes in the sales,...</td>\n",
              "    </tr>\n",
              "    <tr>\n",
              "      <th>3</th>\n",
              "      <td>Healthcare</td>\n",
              "      <td>midtowneyes.com</td>\n",
              "      <td>midtown eyecare</td>\n",
              "      <td>918-599-0202        Type Size...</td>\n",
              "      <td>NaN</td>\n",
              "      <td>Welcome to our practice!</td>\n",
              "      <td>NaN</td>\n",
              "      <td>NaN</td>\n",
              "      <td>NaN</td>\n",
              "      <td>We would like to welcome you to Midtown Eyecar...</td>\n",
              "    </tr>\n",
              "    <tr>\n",
              "      <th>4</th>\n",
              "      <td>Commercial Services &amp; Supplies</td>\n",
              "      <td>reprosecurity.co.uk</td>\n",
              "      <td>repro security ltd</td>\n",
              "      <td>Simply fill out our form below...</td>\n",
              "      <td>NaN</td>\n",
              "      <td>Welcome to REPRO SECURITY Ltd</td>\n",
              "      <td>NaN</td>\n",
              "      <td>NaN</td>\n",
              "      <td>NaN</td>\n",
              "      <td>Repro Security provide a range of tailor made ...</td>\n",
              "    </tr>\n",
              "  </tbody>\n",
              "</table>\n",
              "</div>"
            ],
            "text/plain": [
              "                         Category  ...                                   meta_description\n",
              "0  Commercial Services & Supplies  ...  Providing quality, reliable full service resid...\n",
              "1                      Healthcare  ...  For the best value in Bakersfield skin care tr...\n",
              "2  Commercial Services & Supplies  ...  Koops Overhead Doors specializes in the sales,...\n",
              "3                      Healthcare  ...  We would like to welcome you to Midtown Eyecar...\n",
              "4  Commercial Services & Supplies  ...  Repro Security provide a range of tailor made ...\n",
              "\n",
              "[5 rows x 10 columns]"
            ]
          },
          "metadata": {
            "tags": []
          },
          "execution_count": 103
        }
      ]
    },
    {
      "cell_type": "code",
      "metadata": {
        "colab": {
          "base_uri": "https://localhost:8080/"
        },
        "id": "tqVob_hYi5Op",
        "outputId": "257f732a-6a7c-46ce-e3c1-481247dbf7c2"
      },
      "source": [
        "df.shape"
      ],
      "execution_count": null,
      "outputs": [
        {
          "output_type": "execute_result",
          "data": {
            "text/plain": [
              "(73974, 10)"
            ]
          },
          "metadata": {
            "tags": []
          },
          "execution_count": 104
        }
      ]
    },
    {
      "cell_type": "code",
      "metadata": {
        "colab": {
          "base_uri": "https://localhost:8080/"
        },
        "id": "9nhTFeOiVn8Q",
        "outputId": "b17fa542-9fbd-450c-efec-a2bb733c01ae"
      },
      "source": [
        "df.dropna(inplace=True)\n",
        "\n",
        "df.shape"
      ],
      "execution_count": null,
      "outputs": [
        {
          "output_type": "execute_result",
          "data": {
            "text/plain": [
              "(4041, 10)"
            ]
          },
          "metadata": {
            "tags": []
          },
          "execution_count": 105
        }
      ]
    },
    {
      "cell_type": "code",
      "metadata": {
        "colab": {
          "base_uri": "https://localhost:8080/"
        },
        "id": "x4tYW5FCu14I",
        "outputId": "e8527801-950b-4c87-c305-ee91a1b45eb7"
      },
      "source": [
        "df.Category.value_counts()"
      ],
      "execution_count": null,
      "outputs": [
        {
          "output_type": "execute_result",
          "data": {
            "text/plain": [
              "Healthcare                        481\n",
              "Corporate Services                444\n",
              "Information Technology            417\n",
              "Financials                        416\n",
              "Transportation & Logistics        359\n",
              "Commercial Services & Supplies    342\n",
              "Professional Services             322\n",
              "Media, Marketing & Sales          315\n",
              "Energy & Utilities                274\n",
              "Consumer Staples                  244\n",
              "Consumer Discretionary            150\n",
              "Industrials                       147\n",
              "Materials                         130\n",
              "Name: Category, dtype: int64"
            ]
          },
          "metadata": {
            "tags": []
          },
          "execution_count": 106
        }
      ]
    },
    {
      "cell_type": "code",
      "metadata": {
        "colab": {
          "base_uri": "https://localhost:8080/"
        },
        "id": "S0sN0zFwIIit",
        "outputId": "2e93b7ef-3182-4810-e75e-e3038c8c0e3b"
      },
      "source": [
        "df.Category.value_counts()[:5].sum()"
      ],
      "execution_count": null,
      "outputs": [
        {
          "output_type": "execute_result",
          "data": {
            "text/plain": [
              "2117"
            ]
          },
          "metadata": {
            "tags": []
          },
          "execution_count": 9
        }
      ]
    },
    {
      "cell_type": "code",
      "metadata": {
        "colab": {
          "base_uri": "https://localhost:8080/",
          "height": 513
        },
        "id": "bMi3W_uzi666",
        "outputId": "46b7fc78-e956-4f83-c41b-a045ccc9fae5"
      },
      "source": [
        "df = df[df.Category.isin(df.Category.value_counts()[:5].index)]\n",
        "\n",
        "df.head()"
      ],
      "execution_count": null,
      "outputs": [
        {
          "output_type": "execute_result",
          "data": {
            "text/html": [
              "<div>\n",
              "<style scoped>\n",
              "    .dataframe tbody tr th:only-of-type {\n",
              "        vertical-align: middle;\n",
              "    }\n",
              "\n",
              "    .dataframe tbody tr th {\n",
              "        vertical-align: top;\n",
              "    }\n",
              "\n",
              "    .dataframe thead th {\n",
              "        text-align: right;\n",
              "    }\n",
              "</style>\n",
              "<table border=\"1\" class=\"dataframe\">\n",
              "  <thead>\n",
              "    <tr style=\"text-align: right;\">\n",
              "      <th></th>\n",
              "      <th>Category</th>\n",
              "      <th>website</th>\n",
              "      <th>company_name</th>\n",
              "      <th>homepage_text</th>\n",
              "      <th>h1</th>\n",
              "      <th>h2</th>\n",
              "      <th>h3</th>\n",
              "      <th>nav_link_text</th>\n",
              "      <th>meta_keywords</th>\n",
              "      <th>meta_description</th>\n",
              "    </tr>\n",
              "  </thead>\n",
              "  <tbody>\n",
              "    <tr>\n",
              "      <th>51</th>\n",
              "      <td>Healthcare</td>\n",
              "      <td>new-bio.co.uk</td>\n",
              "      <td>newmarket biomedical limited</td>\n",
              "      <td>Toggle navigation            H...</td>\n",
              "      <td>Newmarket Biomedical</td>\n",
              "      <td>Blood Testing Products#sep#Welcome to New-Bio</td>\n",
              "      <td>Interested in distributing our products?</td>\n",
              "      <td>,about us,blood testing products,new-bio rpr,n...</td>\n",
              "      <td>tpha syphilis assay haemagglutination test, pk...</td>\n",
              "      <td>Newmarket Biomedical (NewBio) is a British com...</td>\n",
              "    </tr>\n",
              "    <tr>\n",
              "      <th>72</th>\n",
              "      <td>Healthcare</td>\n",
              "      <td>westernrockieseyecntr.com</td>\n",
              "      <td>the eye center of colorado</td>\n",
              "      <td>Would you like to switch to the accessible v...</td>\n",
              "      <td>Welcome to Western Rockies Eye Center\\nYour Op...</td>\n",
              "      <td>Hours of Operation#sep#Location#sep#Newsletter...</td>\n",
              "      <td>Sign up to receive updates</td>\n",
              "      <td>home,new patient center,notice of privacy prac...</td>\n",
              "      <td>Home, Grand Junction, Optometrist</td>\n",
              "      <td>Home in Grand Junction, CO. Western Rockies Ey...</td>\n",
              "    </tr>\n",
              "    <tr>\n",
              "      <th>152</th>\n",
              "      <td>Financials</td>\n",
              "      <td>randinsurance.com</td>\n",
              "      <td>rand insurance inc.</td>\n",
              "      <td>Skip to main content    (203) 637-1006   ...</td>\n",
              "      <td>Personal attention. Proactive solutions. A mor...</td>\n",
              "      <td>Protecting your success SINCE 1938#sep#We’re H...</td>\n",
              "      <td>NANPA#sep#Business#sep#Auto + Watercraft#sep#L...</td>\n",
              "      <td>the rand difference,our team,our underwriting ...</td>\n",
              "      <td>Homepage</td>\n",
              "      <td>One of the largest independent insurance broke...</td>\n",
              "    </tr>\n",
              "    <tr>\n",
              "      <th>197</th>\n",
              "      <td>Financials</td>\n",
              "      <td>dmisus.com</td>\n",
              "      <td>desert mountain insurance svc</td>\n",
              "      <td>Malpractice Insurance. Business Insurance...</td>\n",
              "      <td>Phoenix, AZ Business Insurance Agency</td>\n",
              "      <td>Disability#sep#Cyber Liability#sep#Medical Mal...</td>\n",
              "      <td>Education &amp; Seminars#sep#Report a Claim#sep#Po...</td>\n",
              "      <td>home,about,testimonials,employment,dmis gives ...</td>\n",
              "      <td>medical malpractice insurance,business insuran...</td>\n",
              "      <td>Finding great rates on medical malpractice ins...</td>\n",
              "    </tr>\n",
              "    <tr>\n",
              "      <th>338</th>\n",
              "      <td>Financials</td>\n",
              "      <td>tlfinancialsolutions.co.uk</td>\n",
              "      <td>tl financial group, inc.</td>\n",
              "      <td>EU Cookie Law  Cookies on this site are...</td>\n",
              "      <td>Welcome to the HL Partnership website</td>\n",
              "      <td>EU Cookie Law#sep#03300 552 651#sep#Click belo...</td>\n",
              "      <td>Menu</td>\n",
              "      <td>skip to content,home,about us,executive team,m...</td>\n",
              "      <td>Mortgage Network, General Insurance Network</td>\n",
              "      <td>HLPartnership was established as one of the fi...</td>\n",
              "    </tr>\n",
              "  </tbody>\n",
              "</table>\n",
              "</div>"
            ],
            "text/plain": [
              "       Category  ...                                   meta_description\n",
              "51   Healthcare  ...  Newmarket Biomedical (NewBio) is a British com...\n",
              "72   Healthcare  ...  Home in Grand Junction, CO. Western Rockies Ey...\n",
              "152  Financials  ...  One of the largest independent insurance broke...\n",
              "197  Financials  ...  Finding great rates on medical malpractice ins...\n",
              "338  Financials  ...  HLPartnership was established as one of the fi...\n",
              "\n",
              "[5 rows x 10 columns]"
            ]
          },
          "metadata": {
            "tags": []
          },
          "execution_count": 10
        }
      ]
    },
    {
      "cell_type": "code",
      "metadata": {
        "colab": {
          "base_uri": "https://localhost:8080/"
        },
        "id": "Zriy-J0ojNvK",
        "outputId": "9e742f07-9ccf-4836-974a-422e7f1b5abc"
      },
      "source": [
        "df.shape"
      ],
      "execution_count": null,
      "outputs": [
        {
          "output_type": "execute_result",
          "data": {
            "text/plain": [
              "(2117, 10)"
            ]
          },
          "metadata": {
            "tags": []
          },
          "execution_count": 11
        }
      ]
    },
    {
      "cell_type": "code",
      "metadata": {
        "colab": {
          "base_uri": "https://localhost:8080/",
          "height": 204
        },
        "id": "wyncgUx0kNh6",
        "outputId": "0625ca75-b1ac-4754-ef0f-2b67d848fc8f"
      },
      "source": [
        "df = df[['meta_description','Category']]\n",
        "\n",
        "df.rename(columns={'meta_description': 'description', 'Category': 'category'}, inplace=True)\n",
        "\n",
        "df.head()"
      ],
      "execution_count": null,
      "outputs": [
        {
          "output_type": "execute_result",
          "data": {
            "text/html": [
              "<div>\n",
              "<style scoped>\n",
              "    .dataframe tbody tr th:only-of-type {\n",
              "        vertical-align: middle;\n",
              "    }\n",
              "\n",
              "    .dataframe tbody tr th {\n",
              "        vertical-align: top;\n",
              "    }\n",
              "\n",
              "    .dataframe thead th {\n",
              "        text-align: right;\n",
              "    }\n",
              "</style>\n",
              "<table border=\"1\" class=\"dataframe\">\n",
              "  <thead>\n",
              "    <tr style=\"text-align: right;\">\n",
              "      <th></th>\n",
              "      <th>description</th>\n",
              "      <th>category</th>\n",
              "    </tr>\n",
              "  </thead>\n",
              "  <tbody>\n",
              "    <tr>\n",
              "      <th>51</th>\n",
              "      <td>Newmarket Biomedical (NewBio) is a British com...</td>\n",
              "      <td>Healthcare</td>\n",
              "    </tr>\n",
              "    <tr>\n",
              "      <th>72</th>\n",
              "      <td>Home in Grand Junction, CO. Western Rockies Ey...</td>\n",
              "      <td>Healthcare</td>\n",
              "    </tr>\n",
              "    <tr>\n",
              "      <th>152</th>\n",
              "      <td>One of the largest independent insurance broke...</td>\n",
              "      <td>Financials</td>\n",
              "    </tr>\n",
              "    <tr>\n",
              "      <th>197</th>\n",
              "      <td>Finding great rates on medical malpractice ins...</td>\n",
              "      <td>Financials</td>\n",
              "    </tr>\n",
              "    <tr>\n",
              "      <th>338</th>\n",
              "      <td>HLPartnership was established as one of the fi...</td>\n",
              "      <td>Financials</td>\n",
              "    </tr>\n",
              "  </tbody>\n",
              "</table>\n",
              "</div>"
            ],
            "text/plain": [
              "                                           description    category\n",
              "51   Newmarket Biomedical (NewBio) is a British com...  Healthcare\n",
              "72   Home in Grand Junction, CO. Western Rockies Ey...  Healthcare\n",
              "152  One of the largest independent insurance broke...  Financials\n",
              "197  Finding great rates on medical malpractice ins...  Financials\n",
              "338  HLPartnership was established as one of the fi...  Financials"
            ]
          },
          "metadata": {
            "tags": []
          },
          "execution_count": 12
        }
      ]
    },
    {
      "cell_type": "code",
      "metadata": {
        "colab": {
          "base_uri": "https://localhost:8080/",
          "height": 204
        },
        "id": "-5AUK19EmCJz",
        "outputId": "85fd7aca-0a37-4926-d268-f9441777f4b9"
      },
      "source": [
        "category = pd.get_dummies(df.category)\n",
        "df = pd.concat([df, category], axis=1)\n",
        "df = df.drop(columns='category')\n",
        "\n",
        "df.head()"
      ],
      "execution_count": null,
      "outputs": [
        {
          "output_type": "execute_result",
          "data": {
            "text/html": [
              "<div>\n",
              "<style scoped>\n",
              "    .dataframe tbody tr th:only-of-type {\n",
              "        vertical-align: middle;\n",
              "    }\n",
              "\n",
              "    .dataframe tbody tr th {\n",
              "        vertical-align: top;\n",
              "    }\n",
              "\n",
              "    .dataframe thead th {\n",
              "        text-align: right;\n",
              "    }\n",
              "</style>\n",
              "<table border=\"1\" class=\"dataframe\">\n",
              "  <thead>\n",
              "    <tr style=\"text-align: right;\">\n",
              "      <th></th>\n",
              "      <th>description</th>\n",
              "      <th>Corporate Services</th>\n",
              "      <th>Financials</th>\n",
              "      <th>Healthcare</th>\n",
              "      <th>Information Technology</th>\n",
              "      <th>Transportation &amp; Logistics</th>\n",
              "    </tr>\n",
              "  </thead>\n",
              "  <tbody>\n",
              "    <tr>\n",
              "      <th>51</th>\n",
              "      <td>Newmarket Biomedical (NewBio) is a British com...</td>\n",
              "      <td>0</td>\n",
              "      <td>0</td>\n",
              "      <td>1</td>\n",
              "      <td>0</td>\n",
              "      <td>0</td>\n",
              "    </tr>\n",
              "    <tr>\n",
              "      <th>72</th>\n",
              "      <td>Home in Grand Junction, CO. Western Rockies Ey...</td>\n",
              "      <td>0</td>\n",
              "      <td>0</td>\n",
              "      <td>1</td>\n",
              "      <td>0</td>\n",
              "      <td>0</td>\n",
              "    </tr>\n",
              "    <tr>\n",
              "      <th>152</th>\n",
              "      <td>One of the largest independent insurance broke...</td>\n",
              "      <td>0</td>\n",
              "      <td>1</td>\n",
              "      <td>0</td>\n",
              "      <td>0</td>\n",
              "      <td>0</td>\n",
              "    </tr>\n",
              "    <tr>\n",
              "      <th>197</th>\n",
              "      <td>Finding great rates on medical malpractice ins...</td>\n",
              "      <td>0</td>\n",
              "      <td>1</td>\n",
              "      <td>0</td>\n",
              "      <td>0</td>\n",
              "      <td>0</td>\n",
              "    </tr>\n",
              "    <tr>\n",
              "      <th>338</th>\n",
              "      <td>HLPartnership was established as one of the fi...</td>\n",
              "      <td>0</td>\n",
              "      <td>1</td>\n",
              "      <td>0</td>\n",
              "      <td>0</td>\n",
              "      <td>0</td>\n",
              "    </tr>\n",
              "  </tbody>\n",
              "</table>\n",
              "</div>"
            ],
            "text/plain": [
              "                                           description  ...  Transportation & Logistics\n",
              "51   Newmarket Biomedical (NewBio) is a British com...  ...                           0\n",
              "72   Home in Grand Junction, CO. Western Rockies Ey...  ...                           0\n",
              "152  One of the largest independent insurance broke...  ...                           0\n",
              "197  Finding great rates on medical malpractice ins...  ...                           0\n",
              "338  HLPartnership was established as one of the fi...  ...                           0\n",
              "\n",
              "[5 rows x 6 columns]"
            ]
          },
          "metadata": {
            "tags": []
          },
          "execution_count": 13
        }
      ]
    },
    {
      "cell_type": "markdown",
      "metadata": {
        "id": "m9BTeCipU8pP"
      },
      "source": [
        "# Prepare Data"
      ]
    },
    {
      "cell_type": "code",
      "metadata": {
        "id": "lZlyHZ04mKMC"
      },
      "source": [
        "x = df.description.values\n",
        "y = df.iloc[:,1:].values"
      ],
      "execution_count": null,
      "outputs": []
    },
    {
      "cell_type": "code",
      "metadata": {
        "id": "EWBWAwYAEY-k"
      },
      "source": [
        "stopwords = [ \"a\", \"about\", \"above\", \"after\", \"again\", \"against\", \"all\", \"am\", \"an\", \"and\", \"any\", \"are\", \"as\", \"at\", \"be\",\n",
        "             \"because\", \"been\", \"before\", \"being\", \"below\", \"between\", \"both\", \"but\", \"by\", \"could\", \"did\", \"do\", \"does\",\n",
        "             \"doing\", \"down\", \"during\", \"each\", \"few\", \"for\", \"from\", \"further\", \"had\", \"has\", \"have\", \"having\", \"he\", \"he'd\",\n",
        "             \"he'll\", \"he's\", \"her\", \"here\", \"here's\", \"hers\", \"herself\", \"him\", \"himself\", \"his\", \"how\", \"how's\", \"i\", \"i'd\",\n",
        "             \"i'll\", \"i'm\", \"i've\", \"if\", \"in\", \"into\", \"is\", \"it\", \"it's\", \"its\", \"itself\", \"let's\", \"me\", \"more\", \"most\", \"my\",\n",
        "             \"myself\", \"nor\", \"of\", \"on\", \"once\", \"only\", \"or\", \"other\", \"ought\", \"our\", \"ours\", \"ourselves\", \"out\", \"over\", \"own\",\n",
        "             \"same\", \"she\", \"she'd\", \"she'll\", \"she's\", \"should\", \"so\", \"some\", \"such\", \"than\", \"that\", \"that's\", \"the\", \"their\",\n",
        "             \"theirs\", \"them\", \"themselves\", \"then\", \"there\", \"there's\", \"these\", \"they\", \"they'd\", \"they'll\", \"they're\", \"they've\",\n",
        "             \"this\", \"those\", \"through\", \"to\", \"too\", \"under\", \"until\", \"up\", \"very\", \"was\", \"we\", \"we'd\", \"we'll\", \"we're\", \"we've\",\n",
        "             \"were\", \"what\", \"what's\", \"when\", \"when's\", \"where\", \"where's\", \"which\", \"while\", \"who\", \"who's\", \"whom\", \"why\", \"why's\",\n",
        "             \"with\", \"would\", \"you\", \"you'd\", \"you'll\", \"you're\", \"you've\", \"your\", \"yours\", \"yourself\", \"yourselves\"]"
      ],
      "execution_count": null,
      "outputs": []
    },
    {
      "cell_type": "code",
      "metadata": {
        "id": "_xlOfh7ZEvIh"
      },
      "source": [
        "for i in range(len(x)):\n",
        "  for word in stopwords:\n",
        "    token = \" \" + word + \" \"\n",
        "    x[i] = x[i].replace(token, \" \")"
      ],
      "execution_count": null,
      "outputs": []
    },
    {
      "cell_type": "code",
      "metadata": {
        "id": "HY_Ip8y4mbaF"
      },
      "source": [
        "x_train, x_test, y_train, y_test = train_test_split(x, y, test_size=0.2, random_state=100)"
      ],
      "execution_count": null,
      "outputs": []
    },
    {
      "cell_type": "code",
      "metadata": {
        "id": "hLAr7UEcmiRK"
      },
      "source": [
        "tokenizer = Tokenizer(num_words=6000, oov_token='x')\n",
        "tokenizer.fit_on_texts(x_train) \n",
        "tokenizer.fit_on_texts(x_test)\n",
        " \n",
        "sequance_train = tokenizer.texts_to_sequences(x_train)\n",
        "sequance_test = tokenizer.texts_to_sequences(x_test)\n",
        " \n",
        "padded_train = pad_sequences(sequance_train, maxlen=500, padding='post', truncating='post') \n",
        "padded_test = pad_sequences(sequance_test, maxlen=500, padding='post', truncating='post')"
      ],
      "execution_count": null,
      "outputs": []
    },
    {
      "cell_type": "markdown",
      "metadata": {
        "id": "rP40qe_NU0eY"
      },
      "source": [
        "# Build Model"
      ]
    },
    {
      "cell_type": "code",
      "metadata": {
        "id": "mMtN4AezmnO6"
      },
      "source": [
        "model = tf.keras.Sequential([\n",
        "    tf.keras.layers.Embedding(input_dim=6000, output_dim=500, input_length=500),\n",
        "    tf.keras.layers.Bidirectional(tf.keras.layers.LSTM(64)),\n",
        "    tf.keras.layers.Dropout(0.4),\n",
        "    tf.keras.layers.Dense(256,activation = 'relu'),\n",
        "    tf.keras.layers.Dense(256,activation = 'relu'),\n",
        "    tf.keras.layers.Dropout(0.3),\n",
        "    tf.keras.layers.Dense(5, activation='softmax')\n",
        "])\n",
        "model.compile(loss='categorical_hinge', optimizer='adam', metrics=['accuracy'])"
      ],
      "execution_count": null,
      "outputs": []
    },
    {
      "cell_type": "markdown",
      "metadata": {
        "id": "MV9-Ys1yUyLC"
      },
      "source": [
        "# Train Model"
      ]
    },
    {
      "cell_type": "code",
      "metadata": {
        "id": "QY_A2oVln0kp"
      },
      "source": [
        "class myCallback(tf.keras.callbacks.Callback):\n",
        "  def on_epoch_end(self, epoch, logs={}):\n",
        "    if(logs.get('accuracy')>0.9) and (logs.get('val_accuracy')>0.9):\n",
        "      print(\"\\nAkurasi telah mencapai >90%!\\nBismillah Bintang 5!\")\n",
        "      self.model.stop_training = True\n",
        "callbacks = myCallback()"
      ],
      "execution_count": null,
      "outputs": []
    },
    {
      "cell_type": "code",
      "metadata": {
        "colab": {
          "base_uri": "https://localhost:8080/"
        },
        "id": "IiqW3kuKm53q",
        "outputId": "844acc92-9b34-4952-b1a3-dedb58291ec7"
      },
      "source": [
        "history = model.fit(\n",
        "    padded_train,\n",
        "    y_train,\n",
        "    epochs=30,\n",
        "    batch_size=128,\n",
        "    validation_data=(padded_test, y_test),\n",
        "    callbacks=[callbacks]\n",
        "    )"
      ],
      "execution_count": null,
      "outputs": [
        {
          "output_type": "stream",
          "text": [
            "Epoch 1/30\n",
            "14/14 [==============================] - 9s 379ms/step - loss: 1.0025 - accuracy: 0.2422 - val_loss: 0.9997 - val_accuracy: 0.5071\n",
            "Epoch 2/30\n",
            "14/14 [==============================] - 4s 313ms/step - loss: 0.9953 - accuracy: 0.5889 - val_loss: 0.9688 - val_accuracy: 0.6887\n",
            "Epoch 3/30\n",
            "14/14 [==============================] - 4s 307ms/step - loss: 0.8388 - accuracy: 0.6881 - val_loss: 0.7374 - val_accuracy: 0.6156\n",
            "Epoch 4/30\n",
            "14/14 [==============================] - 4s 311ms/step - loss: 0.4901 - accuracy: 0.7661 - val_loss: 0.4128 - val_accuracy: 0.8042\n",
            "Epoch 5/30\n",
            "14/14 [==============================] - 4s 311ms/step - loss: 0.2056 - accuracy: 0.9173 - val_loss: 0.3181 - val_accuracy: 0.8491\n",
            "Epoch 6/30\n",
            "14/14 [==============================] - 4s 309ms/step - loss: 0.0890 - accuracy: 0.9640 - val_loss: 0.2293 - val_accuracy: 0.8892\n",
            "Epoch 7/30\n",
            "14/14 [==============================] - 4s 308ms/step - loss: 0.0336 - accuracy: 0.9870 - val_loss: 0.1980 - val_accuracy: 0.8962\n",
            "Epoch 8/30\n",
            "14/14 [==============================] - 4s 308ms/step - loss: 0.0254 - accuracy: 0.9882 - val_loss: 0.2066 - val_accuracy: 0.8986\n",
            "Epoch 9/30\n",
            "14/14 [==============================] - 4s 309ms/step - loss: 0.0170 - accuracy: 0.9929 - val_loss: 0.2081 - val_accuracy: 0.9033\n",
            "\n",
            "Akurasi telah mencapai >90%!\n",
            "Bismillah Bintang 5!\n"
          ],
          "name": "stdout"
        }
      ]
    },
    {
      "cell_type": "markdown",
      "metadata": {
        "id": "81tsjA-MUYnt"
      },
      "source": [
        "# Plot Loss & Accuracy"
      ]
    },
    {
      "cell_type": "code",
      "metadata": {
        "id": "vsPzupzqnIGC",
        "colab": {
          "base_uri": "https://localhost:8080/",
          "height": 295
        },
        "outputId": "c5694708-b66c-4250-8930-2ae2f606ca81"
      },
      "source": [
        "plt.plot(history.history['loss'])\n",
        "plt.plot(history.history['val_loss'])\n",
        "plt.title('Model loss')\n",
        "plt.ylabel('Loss')\n",
        "plt.xlabel('Epoch')\n",
        "plt.legend(['Train', 'Val'], loc='upper right')\n",
        "plt.show()"
      ],
      "execution_count": null,
      "outputs": [
        {
          "output_type": "display_data",
          "data": {
            "image/png": "[encoded data removed]",
            "text/plain": [
              "<Figure size 432x288 with 1 Axes>"
            ]
          },
          "metadata": {
            "tags": [],
            "needs_background": "light"
          }
        }
      ]
    },
    {
      "cell_type": "code",
      "metadata": {
        "id": "SxNkZlD2n_Th",
        "colab": {
          "base_uri": "https://localhost:8080/",
          "height": 295
        },
        "outputId": "8ed4f14a-ff38-44cd-935d-8f36fd3c52d5"
      },
      "source": [
        "plt.plot(history.history['accuracy'])\n",
        "plt.plot(history.history['val_accuracy'])\n",
        "plt.title('Model accuracy')\n",
        "plt.ylabel('Accuracy')\n",
        "plt.xlabel('Epoch')\n",
        "plt.legend(['Train', 'Val'], loc='lower right')\n",
        "plt.show()"
      ],
      "execution_count": null,
      "outputs": [
        {
          "output_type": "display_data",
          "data": {
            "image/png": "[encoded data removed]",
            "text/plain": [
              "<Figure size 432x288 with 1 Axes>"
            ]
          },
          "metadata": {
            "tags": [],
            "needs_background": "light"
          }
        }
      ]
    }
  ]
}