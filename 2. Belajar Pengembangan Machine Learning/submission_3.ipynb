{
  "nbformat": 4,
  "nbformat_minor": 0,
  "metadata": {
    "colab": {
      "name": "BPML.ipynb",
      "provenance": [],
      "collapsed_sections": []
    },
    "kernelspec": {
      "name": "python3",
      "display_name": "Python 3"
    }
  },
  "cells": [
    {
      "cell_type": "code",
      "metadata": {
        "id": "hw_NKSJqP5J7"
      },
      "source": [
        "import tensorflow as tf\n",
        "from tensorflow.keras.preprocessing.image import ImageDataGenerator\n",
        "import matplotlib.pyplot as plt"
      ],
      "execution_count": 9,
      "outputs": []
    },
    {
      "cell_type": "markdown",
      "metadata": {
        "id": "MjlazlQ6rxw6"
      },
      "source": [
        "# Connect to Drive"
      ]
    },
    {
      "cell_type": "code",
      "metadata": {
        "id": "sFSSDSX0Y3bh"
      },
      "source": [
        "from google.colab import drive\n",
        "drive.mount('/content/drive/')"
      ],
      "execution_count": null,
      "outputs": []
    },
    {
      "cell_type": "markdown",
      "metadata": {
        "id": "IbW7Dc_qK74D"
      },
      "source": [
        "# Load Dataset"
      ]
    },
    {
      "cell_type": "code",
      "metadata": {
        "id": "SO4FjKDFnWyf",
        "colab": {
          "base_uri": "https://localhost:8080/"
        },
        "outputId": "d19d2b07-d983-4662-fd85-75d402154e5d"
      },
      "source": [
        "train_dir = '/content/drive/MyDrive/dataset'\n",
        "\n",
        "# melihat jumlah kelas\n",
        "import os\n",
        "os.listdir((train_dir))"
      ],
      "execution_count": 54,
      "outputs": [
        {
          "output_type": "execute_result",
          "data": {
            "text/plain": [
              "['Apricot',\n",
              " 'Avocado',\n",
              " 'Banana',\n",
              " 'Blueberry',\n",
              " 'Corn',\n",
              " 'Guava',\n",
              " 'Kiwi',\n",
              " 'Lemon',\n",
              " 'Limes',\n",
              " 'Lychee',\n",
              " 'Mango',\n",
              " 'Orange',\n",
              " 'Papaya',\n",
              " 'Peach',\n",
              " 'Pear',\n",
              " 'Pineapple',\n",
              " 'Rambutan',\n",
              " 'Raspberry',\n",
              " 'Salak',\n",
              " 'Strawberry',\n",
              " 'Watermelon']"
            ]
          },
          "metadata": {
            "tags": []
          },
          "execution_count": 54
        }
      ]
    },
    {
      "cell_type": "code",
      "metadata": {
        "id": "ks75Mi7yoNXG"
      },
      "source": [
        "# augmentasi gambar\n",
        "train_datagen = ImageDataGenerator(\n",
        "    rescale=1./255,\n",
        "    rotation_range=50,\n",
        "    zoom_range=0.2,\n",
        "    validation_split=0.2) # sesuai kriteria yang diminta (20%)"
      ],
      "execution_count": 55,
      "outputs": []
    },
    {
      "cell_type": "code",
      "metadata": {
        "id": "TUkU9ktkoQMp",
        "colab": {
          "base_uri": "https://localhost:8080/"
        },
        "outputId": "86331f86-2497-4c9a-8812-608f2d6c87fc"
      },
      "source": [
        "# persiapan pelatihan\n",
        "train_generator = train_datagen.flow_from_directory(\n",
        "    train_dir,\n",
        "    target_size=(100, 100),\n",
        "    batch_size=32,\n",
        "    class_mode='categorical',\n",
        "    subset='training') # ambil training\n",
        " \n",
        "validation_generator = train_datagen.flow_from_directory(\n",
        "    train_dir,\n",
        "    target_size=(100, 100),\n",
        "    batch_size=32,\n",
        "    class_mode='categorical',\n",
        "    subset='validation') # ambil valid"
      ],
      "execution_count": 56,
      "outputs": [
        {
          "output_type": "stream",
          "text": [
            "Found 8103 images belonging to 21 classes.\n",
            "Found 2020 images belonging to 21 classes.\n"
          ],
          "name": "stdout"
        }
      ]
    },
    {
      "cell_type": "markdown",
      "metadata": {
        "id": "xnziWt6HRCGm"
      },
      "source": [
        "# Build Model"
      ]
    },
    {
      "cell_type": "code",
      "metadata": {
        "id": "S0HDcuP-fGkl"
      },
      "source": [
        "class myCallback(tf.keras.callbacks.Callback):\n",
        "  def on_epoch_end(self, epoch, logs={}):\n",
        "    if(logs.get('accuracy')>.92 and logs.get('val_accuracy')>.92):\n",
        "      print(\"\\nAkurasi lebih dari 92%!\")\n",
        "      self.model.stop_training = True\n",
        "callbacks = myCallback()"
      ],
      "execution_count": 65,
      "outputs": []
    },
    {
      "cell_type": "code",
      "metadata": {
        "id": "5OG3qanFoRtA"
      },
      "source": [
        "# pembuatan model\n",
        "model = tf.keras.models.Sequential([\n",
        "    tf.keras.layers.Conv2D(32, (3,3), padding=\"same\", activation=\"relu\", input_shape=(100,100,3)),\n",
        "    tf.keras.layers.MaxPooling2D(pool_size=(2,2)),\n",
        "    tf.keras.layers.Conv2D(16, (3,3), padding=\"same\", activation=\"relu\"),\n",
        "    tf.keras.layers.MaxPooling2D(pool_size=(2,2),strides=(2,2)),\n",
        "    tf.keras.layers.Dropout(0.25),\n",
        "    tf.keras.layers.Conv2D(32, (3,3), padding=\"same\", activation=\"relu\"),\n",
        "    tf.keras.layers.MaxPooling2D(pool_size=(2,2),strides=(2,2)),\n",
        "    # tf.keras.layers.Dropout(0.4),\n",
        "    tf.keras.layers.Flatten(),\n",
        "    tf.keras.layers.Dense(512, activation='relu'),\n",
        "    tf.keras.layers.Dropout(0.25),\n",
        "    tf.keras.layers.Dense(21, activation='softmax')  \n",
        "])"
      ],
      "execution_count": 66,
      "outputs": []
    },
    {
      "cell_type": "code",
      "metadata": {
        "id": "oO2YS9TuoTpz"
      },
      "source": [
        "model.compile(optimizer='adam',\n",
        "              loss='categorical_crossentropy',\n",
        "              metrics=['accuracy'])"
      ],
      "execution_count": 67,
      "outputs": []
    },
    {
      "cell_type": "code",
      "metadata": {
        "id": "31HvugRooWN7",
        "colab": {
          "base_uri": "https://localhost:8080/"
        },
        "outputId": "14b44582-aac1-46e3-a516-5af9a7db0ea9"
      },
      "source": [
        "# proses pelatihan atau pembelajaran pada model\n",
        "history = model.fit(\n",
        "    train_generator,\n",
        "    batch_size=128,\n",
        "    steps_per_epoch=10,\n",
        "    epochs=100,\n",
        "    validation_data=validation_generator,\n",
        "    validation_batch_size=64,\n",
        "    callbacks=[callbacks])"
      ],
      "execution_count": 68,
      "outputs": [
        {
          "output_type": "stream",
          "text": [
            "Epoch 1/100\n",
            "10/10 [==============================] - 157s 3s/step - loss: 3.1437 - accuracy: 0.0508 - val_loss: 3.0251 - val_accuracy: 0.1767\n",
            "Epoch 2/100\n",
            "10/10 [==============================] - 25s 3s/step - loss: 2.9553 - accuracy: 0.1500 - val_loss: 2.9384 - val_accuracy: 0.1584\n",
            "Epoch 3/100\n",
            "10/10 [==============================] - 23s 2s/step - loss: 2.7415 - accuracy: 0.1719 - val_loss: 2.6069 - val_accuracy: 0.3302\n",
            "Epoch 4/100\n",
            "10/10 [==============================] - 24s 2s/step - loss: 2.2514 - accuracy: 0.3125 - val_loss: 2.0902 - val_accuracy: 0.3005\n",
            "Epoch 5/100\n",
            "10/10 [==============================] - 24s 2s/step - loss: 1.7457 - accuracy: 0.4344 - val_loss: 1.6030 - val_accuracy: 0.4985\n",
            "Epoch 6/100\n",
            "10/10 [==============================] - 23s 2s/step - loss: 1.3314 - accuracy: 0.5594 - val_loss: 1.4103 - val_accuracy: 0.4901\n",
            "Epoch 7/100\n",
            "10/10 [==============================] - 21s 2s/step - loss: 1.2030 - accuracy: 0.5531 - val_loss: 1.0781 - val_accuracy: 0.6059\n",
            "Epoch 8/100\n",
            "10/10 [==============================] - 21s 2s/step - loss: 0.9228 - accuracy: 0.6625 - val_loss: 0.9498 - val_accuracy: 0.6782\n",
            "Epoch 9/100\n",
            "10/10 [==============================] - 22s 2s/step - loss: 0.8701 - accuracy: 0.7031 - val_loss: 0.7487 - val_accuracy: 0.7866\n",
            "Epoch 10/100\n",
            "10/10 [==============================] - 22s 2s/step - loss: 0.6975 - accuracy: 0.7375 - val_loss: 0.6052 - val_accuracy: 0.8297\n",
            "Epoch 11/100\n",
            "10/10 [==============================] - 21s 2s/step - loss: 0.7202 - accuracy: 0.7125 - val_loss: 0.6253 - val_accuracy: 0.8114\n",
            "Epoch 12/100\n",
            "10/10 [==============================] - 21s 2s/step - loss: 0.6075 - accuracy: 0.7781 - val_loss: 0.5302 - val_accuracy: 0.8520\n",
            "Epoch 13/100\n",
            "10/10 [==============================] - 21s 2s/step - loss: 0.5160 - accuracy: 0.8250 - val_loss: 0.4593 - val_accuracy: 0.8639\n",
            "Epoch 14/100\n",
            "10/10 [==============================] - 21s 2s/step - loss: 0.4944 - accuracy: 0.8219 - val_loss: 0.3992 - val_accuracy: 0.8797\n",
            "Epoch 15/100\n",
            "10/10 [==============================] - 20s 2s/step - loss: 0.3627 - accuracy: 0.8719 - val_loss: 0.3508 - val_accuracy: 0.9134\n",
            "Epoch 16/100\n",
            "10/10 [==============================] - 20s 2s/step - loss: 0.3135 - accuracy: 0.8969 - val_loss: 0.2683 - val_accuracy: 0.9609\n",
            "Epoch 17/100\n",
            "10/10 [==============================] - 19s 2s/step - loss: 0.4080 - accuracy: 0.8438 - val_loss: 0.2691 - val_accuracy: 0.9272\n",
            "Epoch 18/100\n",
            "10/10 [==============================] - 19s 2s/step - loss: 0.3322 - accuracy: 0.8969 - val_loss: 0.1980 - val_accuracy: 0.9728\n",
            "Epoch 19/100\n",
            "10/10 [==============================] - 20s 2s/step - loss: 0.2313 - accuracy: 0.9062 - val_loss: 0.2756 - val_accuracy: 0.8980\n",
            "Epoch 20/100\n",
            "10/10 [==============================] - 21s 2s/step - loss: 0.2460 - accuracy: 0.9094 - val_loss: 0.1772 - val_accuracy: 0.9470\n",
            "Epoch 21/100\n",
            "10/10 [==============================] - 20s 2s/step - loss: 0.1568 - accuracy: 0.9438 - val_loss: 0.1769 - val_accuracy: 0.9416\n",
            "\n",
            "Akurasi lebih dari 92%!\n"
          ],
          "name": "stdout"
        }
      ]
    },
    {
      "cell_type": "markdown",
      "metadata": {
        "id": "vYaRrjG0iPIX"
      },
      "source": [
        "# Plot Loss & Accuracy"
      ]
    },
    {
      "cell_type": "code",
      "metadata": {
        "id": "bONJrbMksHqE",
        "colab": {
          "base_uri": "https://localhost:8080/",
          "height": 513
        },
        "outputId": "b82e163f-d41b-4b20-be73-629190e91814"
      },
      "source": [
        "# visualisasi dari akurasi pelatihan\n",
        "import matplotlib.pyplot as plt\n",
        "plt.figure(figsize=(10,8))\n",
        "plt.plot(history.history['accuracy'])\n",
        "plt.plot(history.history['val_accuracy'])\n",
        "plt.title('Model\\'s Accuracy')\n",
        "plt.ylabel('Accuracy')\n",
        "plt.xlabel('Epoch')\n",
        "plt.legend(['Train', 'Val'], fontsize=12)\n",
        "plt.show()"
      ],
      "execution_count": 69,
      "outputs": [
        {
          "output_type": "display_data",
          "data": {
            "image/png": "[encoded data removed]",
            "text/plain": [
              "<Figure size 720x576 with 1 Axes>"
            ]
          },
          "metadata": {
            "tags": [],
            "needs_background": "light"
          }
        }
      ]
    },
    {
      "cell_type": "code",
      "metadata": {
        "id": "-jixuKuXszbJ",
        "colab": {
          "base_uri": "https://localhost:8080/",
          "height": 513
        },
        "outputId": "6b3239b6-032a-4f4a-d288-574378f97761"
      },
      "source": [
        "# visualisasi dari loss pelatihan\n",
        "plt.figure(figsize=(10,8))\n",
        "plt.plot(history.history['loss'])\n",
        "plt.plot(history.history['val_loss'])\n",
        "plt.title('Model\\'s Loss')\n",
        "plt.ylabel('Loss')\n",
        "plt.xlabel('Epoch')\n",
        "plt.legend(['Train', 'Val'], fontsize=12)\n",
        "plt.show()"
      ],
      "execution_count": 70,
      "outputs": [
        {
          "output_type": "display_data",
          "data": {
            "image/png": "[encoded data removed]",
            "text/plain": [
              "<Figure size 720x576 with 1 Axes>"
            ]
          },
          "metadata": {
            "tags": [],
            "needs_background": "light"
          }
        }
      ]
    },
    {
      "cell_type": "markdown",
      "metadata": {
        "id": "CRXFGf2jxkPq"
      },
      "source": [
        "# TF-Lite"
      ]
    },
    {
      "cell_type": "code",
      "metadata": {
        "id": "OorzxTpVy2fZ",
        "colab": {
          "base_uri": "https://localhost:8080/"
        },
        "outputId": "b648e811-9299-471e-86c8-4b9c0cb4956c"
      },
      "source": [
        "# Konversi model.\n",
        "converter = tf.lite.TFLiteConverter.from_keras_model(model)\n",
        "tflite_model = converter.convert()"
      ],
      "execution_count": 71,
      "outputs": [
        {
          "output_type": "stream",
          "text": [
            "INFO:tensorflow:Assets written to: /tmp/tmpy9eypjce/assets\n"
          ],
          "name": "stdout"
        }
      ]
    },
    {
      "cell_type": "code",
      "metadata": {
        "id": "c1Zx32lIzEQw"
      },
      "source": [
        "# menyimpan tflite model\n",
        "with tf.io.gfile.GFile('model.tflite', 'wb') as f:\n",
        "  f.write(tflite_model)"
      ],
      "execution_count": 72,
      "outputs": []
    }
  ]
}