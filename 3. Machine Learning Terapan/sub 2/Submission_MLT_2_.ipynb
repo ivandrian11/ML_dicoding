{
  "nbformat": 4,
  "nbformat_minor": 0,
  "metadata": {
    "colab": {
      "name": "Submission MLT-2..ipynb",
      "provenance": [],
      "collapsed_sections": []
    },
    "kernelspec": {
      "name": "python3",
      "display_name": "Python 3"
    },
    "language_info": {
      "name": "python"
    }
  },
  "cells": [
    {
      "cell_type": "markdown",
      "source": [
        "# Download Dataset"
      ],
      "metadata": {
        "id": "vrtWfRgbmTqH"
      }
    },
    {
      "cell_type": "code",
      "execution_count": null,
      "metadata": {
        "colab": {
          "base_uri": "https://localhost:8080/"
        },
        "id": "Yqlqyp75xIug",
        "outputId": "39699880-21cb-43af-cd38-d3375eccd2a7"
      },
      "outputs": [
        {
          "output_type": "stream",
          "name": "stdout",
          "text": [
            "Mounted at /content/gdrive\n",
            "/content/gdrive/My Drive/Kaggle\n"
          ]
        }
      ],
      "source": [
        "# menyambungkan GDrive\n",
        "from google.colab import drive\n",
        "drive.mount('/content/gdrive')\n",
        "\n",
        "# mengonfigurasikan posisi file kaggle.json\n",
        "import os\n",
        "os.environ['KAGGLE_CONFIG_DIR'] = \"/content/gdrive/My Drive/Kaggle\"\n",
        "\n",
        "# mengubah lokasi saat ini ke lokasi konfigurasi\n",
        "%cd /content/gdrive/My Drive/Kaggle"
      ]
    },
    {
      "cell_type": "code",
      "source": [
        "# download dataset pada kaggle\n",
        "!kaggle datasets download -d arashnic/book-recommendation-dataset\n",
        "\n",
        "# mengekstrak file zip dan menghapus file zip tersebut\n",
        "!unzip \\*.zip  && rm *.zip"
      ],
      "metadata": {
        "colab": {
          "base_uri": "https://localhost:8080/"
        },
        "id": "DSFzd0X-xSHy",
        "outputId": "02ea457c-e5b4-4a84-8f48-883e9f0a6777"
      },
      "execution_count": null,
      "outputs": [
        {
          "output_type": "stream",
          "name": "stdout",
          "text": [
            "Downloading book-recommendation-dataset.zip to /content/gdrive/My Drive/Kaggle\n",
            " 84% 20.0M/23.8M [00:00<00:00, 12.6MB/s]\n",
            "100% 23.8M/23.8M [00:00<00:00, 25.8MB/s]\n",
            "Archive:  book-recommendation-dataset.zip\n",
            "  inflating: Books.csv               \n",
            "  inflating: Ratings.csv             \n",
            "  inflating: Users.csv               \n"
          ]
        }
      ]
    },
    {
      "cell_type": "markdown",
      "source": [
        "# Data Understanding & Preparation\n",
        "Dataset yang digunakan dapat di-download melalui [Kaggle](https://www.kaggle.com/arashnic/book-recommendation-dataset)."
      ],
      "metadata": {
        "id": "amxpUoAuyoQR"
      }
    },
    {
      "cell_type": "code",
      "source": [
        "# import library yang umum digunakan\n",
        "import pandas as pd\n",
        "import numpy as np\n",
        "import matplotlib.pyplot as plt\n",
        "import seaborn as sns"
      ],
      "metadata": {
        "id": "Rv8R3BfJy0Cd"
      },
      "execution_count": null,
      "outputs": []
    },
    {
      "cell_type": "markdown",
      "source": [
        "## Book\n",
        "File ini berisikan 8 kolom yang memiliki 271.379  sampel data. Detail dari masing-masing kolom dapat diuraikan sebagai berikut:\n",
        "- `ISBN`, merupakan kode pengidentifikasian suatu buku.\n",
        "- `Book-Title`, merupakan judul dari buku terkait.\n",
        "- `Book-Author`, merupakan penulis dari buku terkait.\n",
        "- `Year-Of-Publication`, merupakan tahun keluaran dari buku terkait.\n",
        "- `Publisher`, merupakan pencetak dari buku terkait.\n",
        "- `Image-URL-S`, merupakan link URL dari buku terkait berukuran kecil (small).\n",
        "- `Image-URL-M`, merupakan link URL dari buku terkait berukuran kecil (medium).\n",
        "- `Image-URL-L`, merupakan link URL dari buku terkait berukuran kecil (large)."
      ],
      "metadata": {
        "id": "xMqyTkWvYvxD"
      }
    },
    {
      "cell_type": "code",
      "source": [
        "# load data buku\n",
        "df_book = pd.read_csv('Books.csv')\n",
        "\n",
        "# lihat datanya\n",
        "df_book.head()"
      ],
      "metadata": {
        "colab": {
          "base_uri": "https://localhost:8080/",
          "height": 513
        },
        "id": "ti1YBBS0D_9S",
        "outputId": "83bd04e4-bcf9-41b4-b4a4-5bdac86a5072"
      },
      "execution_count": null,
      "outputs": [
        {
          "output_type": "stream",
          "name": "stderr",
          "text": [
            "/usr/local/lib/python3.7/dist-packages/IPython/core/interactiveshell.py:2882: DtypeWarning: Columns (3) have mixed types.Specify dtype option on import or set low_memory=False.\n",
            "  exec(code_obj, self.user_global_ns, self.user_ns)\n"
          ]
        },
        {
          "output_type": "execute_result",
          "data": {
            "text/html": [
              "\n",
              "  <div id=\"df-a83deeb1-dee5-4fb7-8cd9-2ae31850f451\">\n",
              "    <div class=\"colab-df-container\">\n",
              "      <div>\n",
              "<style scoped>\n",
              "    .dataframe tbody tr th:only-of-type {\n",
              "        vertical-align: middle;\n",
              "    }\n",
              "\n",
              "    .dataframe tbody tr th {\n",
              "        vertical-align: top;\n",
              "    }\n",
              "\n",
              "    .dataframe thead th {\n",
              "        text-align: right;\n",
              "    }\n",
              "</style>\n",
              "<table border=\"1\" class=\"dataframe\">\n",
              "  <thead>\n",
              "    <tr style=\"text-align: right;\">\n",
              "      <th></th>\n",
              "      <th>ISBN</th>\n",
              "      <th>Book-Title</th>\n",
              "      <th>Book-Author</th>\n",
              "      <th>Year-Of-Publication</th>\n",
              "      <th>Publisher</th>\n",
              "      <th>Image-URL-S</th>\n",
              "      <th>Image-URL-M</th>\n",
              "      <th>Image-URL-L</th>\n",
              "    </tr>\n",
              "  </thead>\n",
              "  <tbody>\n",
              "    <tr>\n",
              "      <th>0</th>\n",
              "      <td>0195153448</td>\n",
              "      <td>Classical Mythology</td>\n",
              "      <td>Mark P. O. Morford</td>\n",
              "      <td>2002</td>\n",
              "      <td>Oxford University Press</td>\n",
              "      <td>http://images.amazon.com/images/P/0195153448.0...</td>\n",
              "      <td>http://images.amazon.com/images/P/0195153448.0...</td>\n",
              "      <td>http://images.amazon.com/images/P/0195153448.0...</td>\n",
              "    </tr>\n",
              "    <tr>\n",
              "      <th>1</th>\n",
              "      <td>0002005018</td>\n",
              "      <td>Clara Callan</td>\n",
              "      <td>Richard Bruce Wright</td>\n",
              "      <td>2001</td>\n",
              "      <td>HarperFlamingo Canada</td>\n",
              "      <td>http://images.amazon.com/images/P/0002005018.0...</td>\n",
              "      <td>http://images.amazon.com/images/P/0002005018.0...</td>\n",
              "      <td>http://images.amazon.com/images/P/0002005018.0...</td>\n",
              "    </tr>\n",
              "    <tr>\n",
              "      <th>2</th>\n",
              "      <td>0060973129</td>\n",
              "      <td>Decision in Normandy</td>\n",
              "      <td>Carlo D'Este</td>\n",
              "      <td>1991</td>\n",
              "      <td>HarperPerennial</td>\n",
              "      <td>http://images.amazon.com/images/P/0060973129.0...</td>\n",
              "      <td>http://images.amazon.com/images/P/0060973129.0...</td>\n",
              "      <td>http://images.amazon.com/images/P/0060973129.0...</td>\n",
              "    </tr>\n",
              "    <tr>\n",
              "      <th>3</th>\n",
              "      <td>0374157065</td>\n",
              "      <td>Flu: The Story of the Great Influenza Pandemic...</td>\n",
              "      <td>Gina Bari Kolata</td>\n",
              "      <td>1999</td>\n",
              "      <td>Farrar Straus Giroux</td>\n",
              "      <td>http://images.amazon.com/images/P/0374157065.0...</td>\n",
              "      <td>http://images.amazon.com/images/P/0374157065.0...</td>\n",
              "      <td>http://images.amazon.com/images/P/0374157065.0...</td>\n",
              "    </tr>\n",
              "    <tr>\n",
              "      <th>4</th>\n",
              "      <td>0393045218</td>\n",
              "      <td>The Mummies of Urumchi</td>\n",
              "      <td>E. J. W. Barber</td>\n",
              "      <td>1999</td>\n",
              "      <td>W. W. Norton &amp;amp; Company</td>\n",
              "      <td>http://images.amazon.com/images/P/0393045218.0...</td>\n",
              "      <td>http://images.amazon.com/images/P/0393045218.0...</td>\n",
              "      <td>http://images.amazon.com/images/P/0393045218.0...</td>\n",
              "    </tr>\n",
              "  </tbody>\n",
              "</table>\n",
              "</div>\n",
              "      <button class=\"colab-df-convert\" onclick=\"convertToInteractive('df-a83deeb1-dee5-4fb7-8cd9-2ae31850f451')\"\n",
              "              title=\"Convert this dataframe to an interactive table.\"\n",
              "              style=\"display:none;\">\n",
              "        \n",
              "  <svg xmlns=\"http://www.w3.org/2000/svg\" height=\"24px\"viewBox=\"0 0 24 24\"\n",
              "       width=\"24px\">\n",
              "    <path d=\"M0 0h24v24H0V0z\" fill=\"none\"/>\n",
              "    <path d=\"M18.56 5.44l.94 2.06.94-2.06 2.06-.94-2.06-.94-.94-2.06-.94 2.06-2.06.94zm-11 1L8.5 8.5l.94-2.06 2.06-.94-2.06-.94L8.5 2.5l-.94 2.06-2.06.94zm10 10l.94 2.06.94-2.06 2.06-.94-2.06-.94-.94-2.06-.94 2.06-2.06.94z\"/><path d=\"M17.41 7.96l-1.37-1.37c-.4-.4-.92-.59-1.43-.59-.52 0-1.04.2-1.43.59L10.3 9.45l-7.72 7.72c-.78.78-.78 2.05 0 2.83L4 21.41c.39.39.9.59 1.41.59.51 0 1.02-.2 1.41-.59l7.78-7.78 2.81-2.81c.8-.78.8-2.07 0-2.86zM5.41 20L4 18.59l7.72-7.72 1.47 1.35L5.41 20z\"/>\n",
              "  </svg>\n",
              "      </button>\n",
              "      \n",
              "  <style>\n",
              "    .colab-df-container {\n",
              "      display:flex;\n",
              "      flex-wrap:wrap;\n",
              "      gap: 12px;\n",
              "    }\n",
              "\n",
              "    .colab-df-convert {\n",
              "      background-color: #E8F0FE;\n",
              "      border: none;\n",
              "      border-radius: 50%;\n",
              "      cursor: pointer;\n",
              "      display: none;\n",
              "      fill: #1967D2;\n",
              "      height: 32px;\n",
              "      padding: 0 0 0 0;\n",
              "      width: 32px;\n",
              "    }\n",
              "\n",
              "    .colab-df-convert:hover {\n",
              "      background-color: #E2EBFA;\n",
              "      box-shadow: 0px 1px 2px rgba(60, 64, 67, 0.3), 0px 1px 3px 1px rgba(60, 64, 67, 0.15);\n",
              "      fill: #174EA6;\n",
              "    }\n",
              "\n",
              "    [theme=dark] .colab-df-convert {\n",
              "      background-color: #3B4455;\n",
              "      fill: #D2E3FC;\n",
              "    }\n",
              "\n",
              "    [theme=dark] .colab-df-convert:hover {\n",
              "      background-color: #434B5C;\n",
              "      box-shadow: 0px 1px 3px 1px rgba(0, 0, 0, 0.15);\n",
              "      filter: drop-shadow(0px 1px 2px rgba(0, 0, 0, 0.3));\n",
              "      fill: #FFFFFF;\n",
              "    }\n",
              "  </style>\n",
              "\n",
              "      <script>\n",
              "        const buttonEl =\n",
              "          document.querySelector('#df-a83deeb1-dee5-4fb7-8cd9-2ae31850f451 button.colab-df-convert');\n",
              "        buttonEl.style.display =\n",
              "          google.colab.kernel.accessAllowed ? 'block' : 'none';\n",
              "\n",
              "        async function convertToInteractive(key) {\n",
              "          const element = document.querySelector('#df-a83deeb1-dee5-4fb7-8cd9-2ae31850f451');\n",
              "          const dataTable =\n",
              "            await google.colab.kernel.invokeFunction('convertToInteractive',\n",
              "                                                     [key], {});\n",
              "          if (!dataTable) return;\n",
              "\n",
              "          const docLinkHtml = 'Like what you see? Visit the ' +\n",
              "            '<a target=\"_blank\" href=https://colab.research.google.com/notebooks/data_table.ipynb>data table notebook</a>'\n",
              "            + ' to learn more about interactive tables.';\n",
              "          element.innerHTML = '';\n",
              "          dataTable['output_type'] = 'display_data';\n",
              "          await google.colab.output.renderOutput(dataTable, element);\n",
              "          const docLink = document.createElement('div');\n",
              "          docLink.innerHTML = docLinkHtml;\n",
              "          element.appendChild(docLink);\n",
              "        }\n",
              "      </script>\n",
              "    </div>\n",
              "  </div>\n",
              "  "
            ],
            "text/plain": [
              "         ISBN  ...                                        Image-URL-L\n",
              "0  0195153448  ...  http://images.amazon.com/images/P/0195153448.0...\n",
              "1  0002005018  ...  http://images.amazon.com/images/P/0002005018.0...\n",
              "2  0060973129  ...  http://images.amazon.com/images/P/0060973129.0...\n",
              "3  0374157065  ...  http://images.amazon.com/images/P/0374157065.0...\n",
              "4  0393045218  ...  http://images.amazon.com/images/P/0393045218.0...\n",
              "\n",
              "[5 rows x 8 columns]"
            ]
          },
          "metadata": {},
          "execution_count": 15
        }
      ]
    },
    {
      "cell_type": "code",
      "source": [
        "# melihat informasi dataset\n",
        "df_book.info()"
      ],
      "metadata": {
        "colab": {
          "base_uri": "https://localhost:8080/"
        },
        "id": "6jUBWqghT2L2",
        "outputId": "55dc9a40-ae9c-44e4-81c1-af736b5c7763"
      },
      "execution_count": null,
      "outputs": [
        {
          "output_type": "stream",
          "name": "stdout",
          "text": [
            "<class 'pandas.core.frame.DataFrame'>\n",
            "RangeIndex: 271360 entries, 0 to 271359\n",
            "Data columns (total 8 columns):\n",
            " #   Column               Non-Null Count   Dtype \n",
            "---  ------               --------------   ----- \n",
            " 0   ISBN                 271360 non-null  object\n",
            " 1   Book-Title           271360 non-null  object\n",
            " 2   Book-Author          271359 non-null  object\n",
            " 3   Year-Of-Publication  271360 non-null  object\n",
            " 4   Publisher            271358 non-null  object\n",
            " 5   Image-URL-S          271360 non-null  object\n",
            " 6   Image-URL-M          271360 non-null  object\n",
            " 7   Image-URL-L          271357 non-null  object\n",
            "dtypes: object(8)\n",
            "memory usage: 16.6+ MB\n"
          ]
        }
      ]
    },
    {
      "cell_type": "markdown",
      "source": [
        ">**Pembahasan:** <br>\n",
        "Pada output di atas dapat diketahui bahwa terdapat nilai yang kosong pada beberapa kolom. Sebenarnya data URL gambarnya tidak diperlukan dan tidak ada kepentingannya sama sekali sehingga dapat dihapus."
      ],
      "metadata": {
        "id": "a4fbAbO-UCS0"
      }
    },
    {
      "cell_type": "code",
      "source": [
        "# hapus kolom gambar\n",
        "df_book.drop(columns=[\"Image-URL-S\",\"Image-URL-M\",\"Image-URL-L\"], inplace=True)\n",
        "\n",
        "# lihat datanya\n",
        "df_book.head()"
      ],
      "metadata": {
        "colab": {
          "base_uri": "https://localhost:8080/",
          "height": 206
        },
        "id": "ixTzpRJwDgWb",
        "outputId": "918f7cd4-2db4-4d11-ee15-ba06e924196e"
      },
      "execution_count": null,
      "outputs": [
        {
          "output_type": "execute_result",
          "data": {
            "text/html": [
              "\n",
              "  <div id=\"df-2f4c1f4e-a066-4c65-89d1-7bf225bb8684\">\n",
              "    <div class=\"colab-df-container\">\n",
              "      <div>\n",
              "<style scoped>\n",
              "    .dataframe tbody tr th:only-of-type {\n",
              "        vertical-align: middle;\n",
              "    }\n",
              "\n",
              "    .dataframe tbody tr th {\n",
              "        vertical-align: top;\n",
              "    }\n",
              "\n",
              "    .dataframe thead th {\n",
              "        text-align: right;\n",
              "    }\n",
              "</style>\n",
              "<table border=\"1\" class=\"dataframe\">\n",
              "  <thead>\n",
              "    <tr style=\"text-align: right;\">\n",
              "      <th></th>\n",
              "      <th>ISBN</th>\n",
              "      <th>Book-Title</th>\n",
              "      <th>Book-Author</th>\n",
              "      <th>Year-Of-Publication</th>\n",
              "      <th>Publisher</th>\n",
              "    </tr>\n",
              "  </thead>\n",
              "  <tbody>\n",
              "    <tr>\n",
              "      <th>0</th>\n",
              "      <td>0195153448</td>\n",
              "      <td>Classical Mythology</td>\n",
              "      <td>Mark P. O. Morford</td>\n",
              "      <td>2002</td>\n",
              "      <td>Oxford University Press</td>\n",
              "    </tr>\n",
              "    <tr>\n",
              "      <th>1</th>\n",
              "      <td>0002005018</td>\n",
              "      <td>Clara Callan</td>\n",
              "      <td>Richard Bruce Wright</td>\n",
              "      <td>2001</td>\n",
              "      <td>HarperFlamingo Canada</td>\n",
              "    </tr>\n",
              "    <tr>\n",
              "      <th>2</th>\n",
              "      <td>0060973129</td>\n",
              "      <td>Decision in Normandy</td>\n",
              "      <td>Carlo D'Este</td>\n",
              "      <td>1991</td>\n",
              "      <td>HarperPerennial</td>\n",
              "    </tr>\n",
              "    <tr>\n",
              "      <th>3</th>\n",
              "      <td>0374157065</td>\n",
              "      <td>Flu: The Story of the Great Influenza Pandemic...</td>\n",
              "      <td>Gina Bari Kolata</td>\n",
              "      <td>1999</td>\n",
              "      <td>Farrar Straus Giroux</td>\n",
              "    </tr>\n",
              "    <tr>\n",
              "      <th>4</th>\n",
              "      <td>0393045218</td>\n",
              "      <td>The Mummies of Urumchi</td>\n",
              "      <td>E. J. W. Barber</td>\n",
              "      <td>1999</td>\n",
              "      <td>W. W. Norton &amp;amp; Company</td>\n",
              "    </tr>\n",
              "  </tbody>\n",
              "</table>\n",
              "</div>\n",
              "      <button class=\"colab-df-convert\" onclick=\"convertToInteractive('df-2f4c1f4e-a066-4c65-89d1-7bf225bb8684')\"\n",
              "              title=\"Convert this dataframe to an interactive table.\"\n",
              "              style=\"display:none;\">\n",
              "        \n",
              "  <svg xmlns=\"http://www.w3.org/2000/svg\" height=\"24px\"viewBox=\"0 0 24 24\"\n",
              "       width=\"24px\">\n",
              "    <path d=\"M0 0h24v24H0V0z\" fill=\"none\"/>\n",
              "    <path d=\"M18.56 5.44l.94 2.06.94-2.06 2.06-.94-2.06-.94-.94-2.06-.94 2.06-2.06.94zm-11 1L8.5 8.5l.94-2.06 2.06-.94-2.06-.94L8.5 2.5l-.94 2.06-2.06.94zm10 10l.94 2.06.94-2.06 2.06-.94-2.06-.94-.94-2.06-.94 2.06-2.06.94z\"/><path d=\"M17.41 7.96l-1.37-1.37c-.4-.4-.92-.59-1.43-.59-.52 0-1.04.2-1.43.59L10.3 9.45l-7.72 7.72c-.78.78-.78 2.05 0 2.83L4 21.41c.39.39.9.59 1.41.59.51 0 1.02-.2 1.41-.59l7.78-7.78 2.81-2.81c.8-.78.8-2.07 0-2.86zM5.41 20L4 18.59l7.72-7.72 1.47 1.35L5.41 20z\"/>\n",
              "  </svg>\n",
              "      </button>\n",
              "      \n",
              "  <style>\n",
              "    .colab-df-container {\n",
              "      display:flex;\n",
              "      flex-wrap:wrap;\n",
              "      gap: 12px;\n",
              "    }\n",
              "\n",
              "    .colab-df-convert {\n",
              "      background-color: #E8F0FE;\n",
              "      border: none;\n",
              "      border-radius: 50%;\n",
              "      cursor: pointer;\n",
              "      display: none;\n",
              "      fill: #1967D2;\n",
              "      height: 32px;\n",
              "      padding: 0 0 0 0;\n",
              "      width: 32px;\n",
              "    }\n",
              "\n",
              "    .colab-df-convert:hover {\n",
              "      background-color: #E2EBFA;\n",
              "      box-shadow: 0px 1px 2px rgba(60, 64, 67, 0.3), 0px 1px 3px 1px rgba(60, 64, 67, 0.15);\n",
              "      fill: #174EA6;\n",
              "    }\n",
              "\n",
              "    [theme=dark] .colab-df-convert {\n",
              "      background-color: #3B4455;\n",
              "      fill: #D2E3FC;\n",
              "    }\n",
              "\n",
              "    [theme=dark] .colab-df-convert:hover {\n",
              "      background-color: #434B5C;\n",
              "      box-shadow: 0px 1px 3px 1px rgba(0, 0, 0, 0.15);\n",
              "      filter: drop-shadow(0px 1px 2px rgba(0, 0, 0, 0.3));\n",
              "      fill: #FFFFFF;\n",
              "    }\n",
              "  </style>\n",
              "\n",
              "      <script>\n",
              "        const buttonEl =\n",
              "          document.querySelector('#df-2f4c1f4e-a066-4c65-89d1-7bf225bb8684 button.colab-df-convert');\n",
              "        buttonEl.style.display =\n",
              "          google.colab.kernel.accessAllowed ? 'block' : 'none';\n",
              "\n",
              "        async function convertToInteractive(key) {\n",
              "          const element = document.querySelector('#df-2f4c1f4e-a066-4c65-89d1-7bf225bb8684');\n",
              "          const dataTable =\n",
              "            await google.colab.kernel.invokeFunction('convertToInteractive',\n",
              "                                                     [key], {});\n",
              "          if (!dataTable) return;\n",
              "\n",
              "          const docLinkHtml = 'Like what you see? Visit the ' +\n",
              "            '<a target=\"_blank\" href=https://colab.research.google.com/notebooks/data_table.ipynb>data table notebook</a>'\n",
              "            + ' to learn more about interactive tables.';\n",
              "          element.innerHTML = '';\n",
              "          dataTable['output_type'] = 'display_data';\n",
              "          await google.colab.output.renderOutput(dataTable, element);\n",
              "          const docLink = document.createElement('div');\n",
              "          docLink.innerHTML = docLinkHtml;\n",
              "          element.appendChild(docLink);\n",
              "        }\n",
              "      </script>\n",
              "    </div>\n",
              "  </div>\n",
              "  "
            ],
            "text/plain": [
              "         ISBN  ...                   Publisher\n",
              "0  0195153448  ...     Oxford University Press\n",
              "1  0002005018  ...       HarperFlamingo Canada\n",
              "2  0060973129  ...             HarperPerennial\n",
              "3  0374157065  ...        Farrar Straus Giroux\n",
              "4  0393045218  ...  W. W. Norton &amp; Company\n",
              "\n",
              "[5 rows x 5 columns]"
            ]
          },
          "metadata": {},
          "execution_count": 17
        }
      ]
    },
    {
      "cell_type": "code",
      "source": [
        "# mengecek nilai yang kosong\n",
        "df_book.isnull().sum()"
      ],
      "metadata": {
        "colab": {
          "base_uri": "https://localhost:8080/"
        },
        "id": "8rzzfljLHDIk",
        "outputId": "61550a03-6820-45c1-f5a5-6c72e78e4d6a"
      },
      "execution_count": null,
      "outputs": [
        {
          "output_type": "execute_result",
          "data": {
            "text/plain": [
              "ISBN                   0\n",
              "Book-Title             0\n",
              "Book-Author            1\n",
              "Year-Of-Publication    0\n",
              "Publisher              2\n",
              "dtype: int64"
            ]
          },
          "metadata": {},
          "execution_count": 18
        }
      ]
    },
    {
      "cell_type": "markdown",
      "source": [
        ">**Pembahasan:** <br>\n",
        "Terdapat 2 kolom yang memiliki nilai yang kosong yaitu `Book-Author` dan `Publisher`. Namun difokuskan untuk menangani kolom `Book-Author` saja karena pada output rekomendasi diharapkan untuk menampilkan judul dan penulis bukunya."
      ],
      "metadata": {
        "id": "wIap3i8lXVfs"
      }
    },
    {
      "cell_type": "code",
      "source": [
        "# cek data mana yang kosong\n",
        "df_book[df_book['Book-Author'].isnull()]"
      ],
      "metadata": {
        "colab": {
          "base_uri": "https://localhost:8080/",
          "height": 81
        },
        "id": "6WM5YBEZRzff",
        "outputId": "03b0e00c-e608-40b2-9f15-964d81066787"
      },
      "execution_count": null,
      "outputs": [
        {
          "output_type": "execute_result",
          "data": {
            "text/html": [
              "\n",
              "  <div id=\"df-4af4e3d6-420d-45dc-9e08-d343289d874f\">\n",
              "    <div class=\"colab-df-container\">\n",
              "      <div>\n",
              "<style scoped>\n",
              "    .dataframe tbody tr th:only-of-type {\n",
              "        vertical-align: middle;\n",
              "    }\n",
              "\n",
              "    .dataframe tbody tr th {\n",
              "        vertical-align: top;\n",
              "    }\n",
              "\n",
              "    .dataframe thead th {\n",
              "        text-align: right;\n",
              "    }\n",
              "</style>\n",
              "<table border=\"1\" class=\"dataframe\">\n",
              "  <thead>\n",
              "    <tr style=\"text-align: right;\">\n",
              "      <th></th>\n",
              "      <th>ISBN</th>\n",
              "      <th>Book-Title</th>\n",
              "      <th>Book-Author</th>\n",
              "      <th>Year-Of-Publication</th>\n",
              "      <th>Publisher</th>\n",
              "    </tr>\n",
              "  </thead>\n",
              "  <tbody>\n",
              "    <tr>\n",
              "      <th>187689</th>\n",
              "      <td>9627982032</td>\n",
              "      <td>The Credit Suisse Guide to Managing Your Perso...</td>\n",
              "      <td>NaN</td>\n",
              "      <td>1995</td>\n",
              "      <td>Edinburgh Financial Publishing</td>\n",
              "    </tr>\n",
              "  </tbody>\n",
              "</table>\n",
              "</div>\n",
              "      <button class=\"colab-df-convert\" onclick=\"convertToInteractive('df-4af4e3d6-420d-45dc-9e08-d343289d874f')\"\n",
              "              title=\"Convert this dataframe to an interactive table.\"\n",
              "              style=\"display:none;\">\n",
              "        \n",
              "  <svg xmlns=\"http://www.w3.org/2000/svg\" height=\"24px\"viewBox=\"0 0 24 24\"\n",
              "       width=\"24px\">\n",
              "    <path d=\"M0 0h24v24H0V0z\" fill=\"none\"/>\n",
              "    <path d=\"M18.56 5.44l.94 2.06.94-2.06 2.06-.94-2.06-.94-.94-2.06-.94 2.06-2.06.94zm-11 1L8.5 8.5l.94-2.06 2.06-.94-2.06-.94L8.5 2.5l-.94 2.06-2.06.94zm10 10l.94 2.06.94-2.06 2.06-.94-2.06-.94-.94-2.06-.94 2.06-2.06.94z\"/><path d=\"M17.41 7.96l-1.37-1.37c-.4-.4-.92-.59-1.43-.59-.52 0-1.04.2-1.43.59L10.3 9.45l-7.72 7.72c-.78.78-.78 2.05 0 2.83L4 21.41c.39.39.9.59 1.41.59.51 0 1.02-.2 1.41-.59l7.78-7.78 2.81-2.81c.8-.78.8-2.07 0-2.86zM5.41 20L4 18.59l7.72-7.72 1.47 1.35L5.41 20z\"/>\n",
              "  </svg>\n",
              "      </button>\n",
              "      \n",
              "  <style>\n",
              "    .colab-df-container {\n",
              "      display:flex;\n",
              "      flex-wrap:wrap;\n",
              "      gap: 12px;\n",
              "    }\n",
              "\n",
              "    .colab-df-convert {\n",
              "      background-color: #E8F0FE;\n",
              "      border: none;\n",
              "      border-radius: 50%;\n",
              "      cursor: pointer;\n",
              "      display: none;\n",
              "      fill: #1967D2;\n",
              "      height: 32px;\n",
              "      padding: 0 0 0 0;\n",
              "      width: 32px;\n",
              "    }\n",
              "\n",
              "    .colab-df-convert:hover {\n",
              "      background-color: #E2EBFA;\n",
              "      box-shadow: 0px 1px 2px rgba(60, 64, 67, 0.3), 0px 1px 3px 1px rgba(60, 64, 67, 0.15);\n",
              "      fill: #174EA6;\n",
              "    }\n",
              "\n",
              "    [theme=dark] .colab-df-convert {\n",
              "      background-color: #3B4455;\n",
              "      fill: #D2E3FC;\n",
              "    }\n",
              "\n",
              "    [theme=dark] .colab-df-convert:hover {\n",
              "      background-color: #434B5C;\n",
              "      box-shadow: 0px 1px 3px 1px rgba(0, 0, 0, 0.15);\n",
              "      filter: drop-shadow(0px 1px 2px rgba(0, 0, 0, 0.3));\n",
              "      fill: #FFFFFF;\n",
              "    }\n",
              "  </style>\n",
              "\n",
              "      <script>\n",
              "        const buttonEl =\n",
              "          document.querySelector('#df-4af4e3d6-420d-45dc-9e08-d343289d874f button.colab-df-convert');\n",
              "        buttonEl.style.display =\n",
              "          google.colab.kernel.accessAllowed ? 'block' : 'none';\n",
              "\n",
              "        async function convertToInteractive(key) {\n",
              "          const element = document.querySelector('#df-4af4e3d6-420d-45dc-9e08-d343289d874f');\n",
              "          const dataTable =\n",
              "            await google.colab.kernel.invokeFunction('convertToInteractive',\n",
              "                                                     [key], {});\n",
              "          if (!dataTable) return;\n",
              "\n",
              "          const docLinkHtml = 'Like what you see? Visit the ' +\n",
              "            '<a target=\"_blank\" href=https://colab.research.google.com/notebooks/data_table.ipynb>data table notebook</a>'\n",
              "            + ' to learn more about interactive tables.';\n",
              "          element.innerHTML = '';\n",
              "          dataTable['output_type'] = 'display_data';\n",
              "          await google.colab.output.renderOutput(dataTable, element);\n",
              "          const docLink = document.createElement('div');\n",
              "          docLink.innerHTML = docLinkHtml;\n",
              "          element.appendChild(docLink);\n",
              "        }\n",
              "      </script>\n",
              "    </div>\n",
              "  </div>\n",
              "  "
            ],
            "text/plain": [
              "              ISBN  ...                       Publisher\n",
              "187689  9627982032  ...  Edinburgh Financial Publishing\n",
              "\n",
              "[1 rows x 5 columns]"
            ]
          },
          "metadata": {},
          "execution_count": 19
        }
      ]
    },
    {
      "cell_type": "markdown",
      "source": [
        ">**Pembahasan:** <br>\n",
        "Data penulis yang hilang terdapat pada judul buku `The Credit Suisse Guide to Managing Your Personal Wealth`. Setelah dilakukan pengecekan manual ternyata penulis bukunya ialah `Larissa Anne Downes` sehingga datanya dapat diperbaiki terlebih dahulu sebelum digunakan lebih lanjut."
      ],
      "metadata": {
        "id": "imrrUbPmX6Y8"
      }
    },
    {
      "cell_type": "code",
      "source": [
        "df_book['Book-Author'][187689] = 'Larissa Anne Downes'"
      ],
      "metadata": {
        "id": "L4kQvkDATLan"
      },
      "execution_count": null,
      "outputs": []
    },
    {
      "cell_type": "code",
      "source": [
        "# cek ulang apakah sudah terisi\n",
        "df_book.isnull().sum()"
      ],
      "metadata": {
        "colab": {
          "base_uri": "https://localhost:8080/"
        },
        "id": "O3HdmQWdTWK1",
        "outputId": "21a0037a-9662-4a0c-9715-7c1a9dd37ef9"
      },
      "execution_count": null,
      "outputs": [
        {
          "output_type": "execute_result",
          "data": {
            "text/plain": [
              "ISBN                   0\n",
              "Book-Title             0\n",
              "Book-Author            0\n",
              "Year-Of-Publication    0\n",
              "Publisher              2\n",
              "dtype: int64"
            ]
          },
          "metadata": {},
          "execution_count": 21
        }
      ]
    },
    {
      "cell_type": "markdown",
      "source": [
        "## Rating\n",
        "File ini berisikan 3 kolom yang memiliki 1.149.780  sampel data. Detail dari masing-masing kolom dapat diuraikan sebagai berikut:\n",
        "- `User-ID`, merupakan id pembaca.\n",
        "- `ISBN`, merupakan kode pengidentifikasian suatu buku.\n",
        "- `Book-Rating`, merupakan rating dari buku yang dinilai oleh pembaca."
      ],
      "metadata": {
        "id": "qhIXha17ZAPF"
      }
    },
    {
      "cell_type": "code",
      "source": [
        "# load data rating\n",
        "df_rating = pd.read_csv('Ratings.csv')\n",
        "\n",
        "# lihat datanya\n",
        "df_rating.head()"
      ],
      "metadata": {
        "colab": {
          "base_uri": "https://localhost:8080/",
          "height": 206
        },
        "id": "KwKrNUdJyrqQ",
        "outputId": "707b71ef-1628-4837-ee1a-f8aa516dd727"
      },
      "execution_count": null,
      "outputs": [
        {
          "output_type": "execute_result",
          "data": {
            "text/html": [
              "\n",
              "  <div id=\"df-e5533e24-c85b-40d1-af7e-b6449a2d8173\">\n",
              "    <div class=\"colab-df-container\">\n",
              "      <div>\n",
              "<style scoped>\n",
              "    .dataframe tbody tr th:only-of-type {\n",
              "        vertical-align: middle;\n",
              "    }\n",
              "\n",
              "    .dataframe tbody tr th {\n",
              "        vertical-align: top;\n",
              "    }\n",
              "\n",
              "    .dataframe thead th {\n",
              "        text-align: right;\n",
              "    }\n",
              "</style>\n",
              "<table border=\"1\" class=\"dataframe\">\n",
              "  <thead>\n",
              "    <tr style=\"text-align: right;\">\n",
              "      <th></th>\n",
              "      <th>User-ID</th>\n",
              "      <th>ISBN</th>\n",
              "      <th>Book-Rating</th>\n",
              "    </tr>\n",
              "  </thead>\n",
              "  <tbody>\n",
              "    <tr>\n",
              "      <th>0</th>\n",
              "      <td>276725</td>\n",
              "      <td>034545104X</td>\n",
              "      <td>0</td>\n",
              "    </tr>\n",
              "    <tr>\n",
              "      <th>1</th>\n",
              "      <td>276726</td>\n",
              "      <td>0155061224</td>\n",
              "      <td>5</td>\n",
              "    </tr>\n",
              "    <tr>\n",
              "      <th>2</th>\n",
              "      <td>276727</td>\n",
              "      <td>0446520802</td>\n",
              "      <td>0</td>\n",
              "    </tr>\n",
              "    <tr>\n",
              "      <th>3</th>\n",
              "      <td>276729</td>\n",
              "      <td>052165615X</td>\n",
              "      <td>3</td>\n",
              "    </tr>\n",
              "    <tr>\n",
              "      <th>4</th>\n",
              "      <td>276729</td>\n",
              "      <td>0521795028</td>\n",
              "      <td>6</td>\n",
              "    </tr>\n",
              "  </tbody>\n",
              "</table>\n",
              "</div>\n",
              "      <button class=\"colab-df-convert\" onclick=\"convertToInteractive('df-e5533e24-c85b-40d1-af7e-b6449a2d8173')\"\n",
              "              title=\"Convert this dataframe to an interactive table.\"\n",
              "              style=\"display:none;\">\n",
              "        \n",
              "  <svg xmlns=\"http://www.w3.org/2000/svg\" height=\"24px\"viewBox=\"0 0 24 24\"\n",
              "       width=\"24px\">\n",
              "    <path d=\"M0 0h24v24H0V0z\" fill=\"none\"/>\n",
              "    <path d=\"M18.56 5.44l.94 2.06.94-2.06 2.06-.94-2.06-.94-.94-2.06-.94 2.06-2.06.94zm-11 1L8.5 8.5l.94-2.06 2.06-.94-2.06-.94L8.5 2.5l-.94 2.06-2.06.94zm10 10l.94 2.06.94-2.06 2.06-.94-2.06-.94-.94-2.06-.94 2.06-2.06.94z\"/><path d=\"M17.41 7.96l-1.37-1.37c-.4-.4-.92-.59-1.43-.59-.52 0-1.04.2-1.43.59L10.3 9.45l-7.72 7.72c-.78.78-.78 2.05 0 2.83L4 21.41c.39.39.9.59 1.41.59.51 0 1.02-.2 1.41-.59l7.78-7.78 2.81-2.81c.8-.78.8-2.07 0-2.86zM5.41 20L4 18.59l7.72-7.72 1.47 1.35L5.41 20z\"/>\n",
              "  </svg>\n",
              "      </button>\n",
              "      \n",
              "  <style>\n",
              "    .colab-df-container {\n",
              "      display:flex;\n",
              "      flex-wrap:wrap;\n",
              "      gap: 12px;\n",
              "    }\n",
              "\n",
              "    .colab-df-convert {\n",
              "      background-color: #E8F0FE;\n",
              "      border: none;\n",
              "      border-radius: 50%;\n",
              "      cursor: pointer;\n",
              "      display: none;\n",
              "      fill: #1967D2;\n",
              "      height: 32px;\n",
              "      padding: 0 0 0 0;\n",
              "      width: 32px;\n",
              "    }\n",
              "\n",
              "    .colab-df-convert:hover {\n",
              "      background-color: #E2EBFA;\n",
              "      box-shadow: 0px 1px 2px rgba(60, 64, 67, 0.3), 0px 1px 3px 1px rgba(60, 64, 67, 0.15);\n",
              "      fill: #174EA6;\n",
              "    }\n",
              "\n",
              "    [theme=dark] .colab-df-convert {\n",
              "      background-color: #3B4455;\n",
              "      fill: #D2E3FC;\n",
              "    }\n",
              "\n",
              "    [theme=dark] .colab-df-convert:hover {\n",
              "      background-color: #434B5C;\n",
              "      box-shadow: 0px 1px 3px 1px rgba(0, 0, 0, 0.15);\n",
              "      filter: drop-shadow(0px 1px 2px rgba(0, 0, 0, 0.3));\n",
              "      fill: #FFFFFF;\n",
              "    }\n",
              "  </style>\n",
              "\n",
              "      <script>\n",
              "        const buttonEl =\n",
              "          document.querySelector('#df-e5533e24-c85b-40d1-af7e-b6449a2d8173 button.colab-df-convert');\n",
              "        buttonEl.style.display =\n",
              "          google.colab.kernel.accessAllowed ? 'block' : 'none';\n",
              "\n",
              "        async function convertToInteractive(key) {\n",
              "          const element = document.querySelector('#df-e5533e24-c85b-40d1-af7e-b6449a2d8173');\n",
              "          const dataTable =\n",
              "            await google.colab.kernel.invokeFunction('convertToInteractive',\n",
              "                                                     [key], {});\n",
              "          if (!dataTable) return;\n",
              "\n",
              "          const docLinkHtml = 'Like what you see? Visit the ' +\n",
              "            '<a target=\"_blank\" href=https://colab.research.google.com/notebooks/data_table.ipynb>data table notebook</a>'\n",
              "            + ' to learn more about interactive tables.';\n",
              "          element.innerHTML = '';\n",
              "          dataTable['output_type'] = 'display_data';\n",
              "          await google.colab.output.renderOutput(dataTable, element);\n",
              "          const docLink = document.createElement('div');\n",
              "          docLink.innerHTML = docLinkHtml;\n",
              "          element.appendChild(docLink);\n",
              "        }\n",
              "      </script>\n",
              "    </div>\n",
              "  </div>\n",
              "  "
            ],
            "text/plain": [
              "   User-ID        ISBN  Book-Rating\n",
              "0   276725  034545104X            0\n",
              "1   276726  0155061224            5\n",
              "2   276727  0446520802            0\n",
              "3   276729  052165615X            3\n",
              "4   276729  0521795028            6"
            ]
          },
          "metadata": {},
          "execution_count": 28
        }
      ]
    },
    {
      "cell_type": "code",
      "source": [
        "# melihat informasi dataset\n",
        "df_rating.info()"
      ],
      "metadata": {
        "colab": {
          "base_uri": "https://localhost:8080/"
        },
        "id": "fRG3nSQk3VgO",
        "outputId": "0e4c972d-ee82-451d-94f3-86520004ac2a"
      },
      "execution_count": null,
      "outputs": [
        {
          "output_type": "stream",
          "name": "stdout",
          "text": [
            "<class 'pandas.core.frame.DataFrame'>\n",
            "RangeIndex: 1149780 entries, 0 to 1149779\n",
            "Data columns (total 3 columns):\n",
            " #   Column       Non-Null Count    Dtype \n",
            "---  ------       --------------    ----- \n",
            " 0   User-ID      1149780 non-null  int64 \n",
            " 1   ISBN         1149780 non-null  object\n",
            " 2   Book-Rating  1149780 non-null  int64 \n",
            "dtypes: int64(2), object(1)\n",
            "memory usage: 26.3+ MB\n"
          ]
        }
      ]
    },
    {
      "cell_type": "markdown",
      "source": [
        ">**Pembahasan:** <br>\n",
        "Tidak terdapat kesalahan apapun pada informasi output di atas sehingga tidak perlu dilakukan perubahan apapun."
      ],
      "metadata": {
        "id": "3VVW8qYFZepE"
      }
    },
    {
      "cell_type": "code",
      "source": [
        "# lihat data yang kosong\n",
        "df_rating.isnull().sum()"
      ],
      "metadata": {
        "colab": {
          "base_uri": "https://localhost:8080/"
        },
        "id": "TXOTJi-T2IsG",
        "outputId": "97b7c849-3306-42f2-9b64-03c7f6ca50de"
      },
      "execution_count": null,
      "outputs": [
        {
          "output_type": "execute_result",
          "data": {
            "text/plain": [
              "User-ID        0\n",
              "ISBN           0\n",
              "Book-Rating    0\n",
              "dtype: int64"
            ]
          },
          "metadata": {},
          "execution_count": 30
        }
      ]
    },
    {
      "cell_type": "code",
      "source": [
        "# lihat distribusi nilai rating\n",
        "df_rating['Book-Rating'].value_counts().sort_values()"
      ],
      "metadata": {
        "colab": {
          "base_uri": "https://localhost:8080/"
        },
        "id": "2kKWEbnrzAvE",
        "outputId": "041b7acf-b182-40d5-fd92-de5bf4f5f1c0"
      },
      "execution_count": null,
      "outputs": [
        {
          "output_type": "execute_result",
          "data": {
            "text/plain": [
              "1       1770\n",
              "2       2759\n",
              "3       5996\n",
              "4       8904\n",
              "6      36924\n",
              "5      50974\n",
              "9      67541\n",
              "7      76457\n",
              "10     78610\n",
              "8     103736\n",
              "0     716109\n",
              "Name: Book-Rating, dtype: int64"
            ]
          },
          "metadata": {},
          "execution_count": 31
        }
      ]
    },
    {
      "cell_type": "markdown",
      "source": [
        ">**Pembahasan:** <br>\n",
        "Pada output terdapat sesuatu yang sedikit membingungkan yaitu terdapat nilai `0` pada nilai rating. Dapat terpikirkan asumsi bahwa pengguna memiliki buku tetapi belum selesai membacanya atau sudah selesai membaca tapi belum memberikan rating. Karena disini akan dibuat sistem rekomendasi menggunakan data rating yang tentunya memiliki kemiripan terhadap buku yang telah dibaca. Tentunya akan berfokus pada data dengan rating yang jelas. Sehingga, nilai dengan rating `0` akan di-abaikan."
      ],
      "metadata": {
        "id": "k9301AZubKdD"
      }
    },
    {
      "cell_type": "code",
      "source": [
        "# cek ukuran data\n",
        "len(df_rating)"
      ],
      "metadata": {
        "colab": {
          "base_uri": "https://localhost:8080/"
        },
        "id": "kZRTmWPNWNoX",
        "outputId": "1e68dda2-1c29-4f17-a62e-e547d425043b"
      },
      "execution_count": null,
      "outputs": [
        {
          "output_type": "execute_result",
          "data": {
            "text/plain": [
              "1149780"
            ]
          },
          "metadata": {},
          "execution_count": 32
        }
      ]
    },
    {
      "cell_type": "code",
      "source": [
        "# mengabaikan data dengan rating 0\n",
        "df_rating = df_rating[df_rating['Book-Rating'] != 0]"
      ],
      "metadata": {
        "id": "URTBKqif3X5e"
      },
      "execution_count": null,
      "outputs": []
    },
    {
      "cell_type": "code",
      "source": [
        "# cek ukuran data kembali\n",
        "len(df_rating)"
      ],
      "metadata": {
        "colab": {
          "base_uri": "https://localhost:8080/"
        },
        "id": "vA44F7Xf3p_1",
        "outputId": "175b2c2a-1720-4276-cbc9-e2f8c21f554b"
      },
      "execution_count": null,
      "outputs": [
        {
          "output_type": "execute_result",
          "data": {
            "text/plain": [
              "433671"
            ]
          },
          "metadata": {},
          "execution_count": 34
        }
      ]
    },
    {
      "cell_type": "code",
      "source": [
        "# ubah id user menjadi list tanpa nilai yang sama\n",
        "user_ids = df_rating['User-ID'].unique().tolist()\n",
        "# print('list userID: ', user_ids)\n",
        " \n",
        "# encoding id user\n",
        "user_to_user_encoded = {x: i for i, x in enumerate(user_ids)}\n",
        "# print('encoded userID : ', user_to_user_encoded)\n",
        " \n",
        "# proses encoding angka ke ke id user\n",
        "user_encoded_to_user = {i: x for i, x in enumerate(user_ids)}\n",
        "# print('encoded angka ke userID: ', user_encoded_to_user)"
      ],
      "metadata": {
        "id": "_2Bq5k3D3BCX"
      },
      "execution_count": null,
      "outputs": []
    },
    {
      "cell_type": "code",
      "source": [
        "# ubah isbn menjadi list tanpa nilai yang sama\n",
        "book_ids = df_rating['ISBN'].unique().tolist()\n",
        "# print('list bookID: ', book_ids)\n",
        " \n",
        "# proses encoding isbn\n",
        "book_to_book_encoded = {x: i for i, x in enumerate(book_ids)}\n",
        "# print('encoded bookID : ', book_to_book_encoded)\n",
        " \n",
        "# proses encoding angka ke isbn\n",
        "book_encoded_to_book = {i: x for i, x in enumerate(book_ids)}\n",
        "# print('encoded angka ke bookID: ', book_encoded_to_book)"
      ],
      "metadata": {
        "id": "qcsYWkcK3FtO"
      },
      "execution_count": null,
      "outputs": []
    },
    {
      "cell_type": "code",
      "source": [
        "# ambil dataframe sebelumnya\n",
        "df = df_rating\n",
        "\n",
        "# mapping user id ke dataframe\n",
        "df['user'] = df_rating['User-ID'].map(user_to_user_encoded)\n",
        " \n",
        "# mapping isbn ke dataframe\n",
        "df['book'] = df_rating['ISBN'].map(book_to_book_encoded)"
      ],
      "metadata": {
        "id": "Zq-5ZS164Tag"
      },
      "execution_count": null,
      "outputs": []
    },
    {
      "cell_type": "code",
      "source": [
        "# ambil jumlah user\n",
        "num_users = len(user_to_user_encoded)\n",
        "print(num_users)\n",
        " \n",
        "# ambil jumlah buku\n",
        "num_book = len(book_encoded_to_book)\n",
        "print(num_book)\n",
        " \n",
        "# ubah tipe data rating menjadi float\n",
        "df['Book-Rating'] = df['Book-Rating'].values.astype(np.float32)\n",
        " \n",
        "# ambil nilai rating terkecil\n",
        "min_rating = min(df['Book-Rating'])\n",
        " \n",
        "# ambil nilai rating tertinggi\n",
        "max_rating = max(df['Book-Rating'])\n",
        " \n",
        "print('Number of User: {}, Number of Book: {}, Min Rating: {}, Max Rating: {}'.format(\n",
        "    num_users, num_book, min_rating, max_rating\n",
        "))"
      ],
      "metadata": {
        "id": "TMn_6kfh4oO3",
        "colab": {
          "base_uri": "https://localhost:8080/"
        },
        "outputId": "c6c1fd3e-699a-4240-d4bb-301cac541239"
      },
      "execution_count": null,
      "outputs": [
        {
          "output_type": "stream",
          "name": "stdout",
          "text": [
            "77805\n",
            "185973\n",
            "Number of User: 77805, Number of Book: 185973, Min Rating: 1.0, Max Rating: 10.0\n"
          ]
        }
      ]
    },
    {
      "cell_type": "code",
      "source": [
        "# acak datasetnya\n",
        "df = df.sample(frac=1, random_state=42)\n",
        "df"
      ],
      "metadata": {
        "colab": {
          "base_uri": "https://localhost:8080/",
          "height": 424
        },
        "id": "PhJjSyw08sF8",
        "outputId": "335845a0-37dc-43dd-ba6b-281b449b88da"
      },
      "execution_count": null,
      "outputs": [
        {
          "output_type": "execute_result",
          "data": {
            "text/html": [
              "\n",
              "  <div id=\"df-81c5adb7-fe9e-42e7-925c-4c46cd19b9c6\">\n",
              "    <div class=\"colab-df-container\">\n",
              "      <div>\n",
              "<style scoped>\n",
              "    .dataframe tbody tr th:only-of-type {\n",
              "        vertical-align: middle;\n",
              "    }\n",
              "\n",
              "    .dataframe tbody tr th {\n",
              "        vertical-align: top;\n",
              "    }\n",
              "\n",
              "    .dataframe thead th {\n",
              "        text-align: right;\n",
              "    }\n",
              "</style>\n",
              "<table border=\"1\" class=\"dataframe\">\n",
              "  <thead>\n",
              "    <tr style=\"text-align: right;\">\n",
              "      <th></th>\n",
              "      <th>User-ID</th>\n",
              "      <th>ISBN</th>\n",
              "      <th>Book-Rating</th>\n",
              "      <th>user</th>\n",
              "      <th>book</th>\n",
              "    </tr>\n",
              "  </thead>\n",
              "  <tbody>\n",
              "    <tr>\n",
              "      <th>144846</th>\n",
              "      <td>32440</td>\n",
              "      <td>0380018179</td>\n",
              "      <td>8.0</td>\n",
              "      <td>9713</td>\n",
              "      <td>1013</td>\n",
              "    </tr>\n",
              "    <tr>\n",
              "      <th>211411</th>\n",
              "      <td>49144</td>\n",
              "      <td>8422641127</td>\n",
              "      <td>5.0</td>\n",
              "      <td>14390</td>\n",
              "      <td>54663</td>\n",
              "    </tr>\n",
              "    <tr>\n",
              "      <th>647520</th>\n",
              "      <td>156424</td>\n",
              "      <td>3442453844</td>\n",
              "      <td>7.0</td>\n",
              "      <td>44370</td>\n",
              "      <td>127953</td>\n",
              "    </tr>\n",
              "    <tr>\n",
              "      <th>30124</th>\n",
              "      <td>7125</td>\n",
              "      <td>0060586125</td>\n",
              "      <td>8.0</td>\n",
              "      <td>2587</td>\n",
              "      <td>10359</td>\n",
              "    </tr>\n",
              "    <tr>\n",
              "      <th>1052982</th>\n",
              "      <td>251606</td>\n",
              "      <td>0316789844</td>\n",
              "      <td>8.0</td>\n",
              "      <td>70897</td>\n",
              "      <td>7053</td>\n",
              "    </tr>\n",
              "    <tr>\n",
              "      <th>...</th>\n",
              "      <td>...</td>\n",
              "      <td>...</td>\n",
              "      <td>...</td>\n",
              "      <td>...</td>\n",
              "      <td>...</td>\n",
              "    </tr>\n",
              "    <tr>\n",
              "      <th>658592</th>\n",
              "      <td>159834</td>\n",
              "      <td>0441132456</td>\n",
              "      <td>7.0</td>\n",
              "      <td>45235</td>\n",
              "      <td>70428</td>\n",
              "    </tr>\n",
              "    <tr>\n",
              "      <th>958724</th>\n",
              "      <td>231613</td>\n",
              "      <td>0747542333</td>\n",
              "      <td>5.0</td>\n",
              "      <td>65186</td>\n",
              "      <td>33018</td>\n",
              "    </tr>\n",
              "    <tr>\n",
              "      <th>335707</th>\n",
              "      <td>79923</td>\n",
              "      <td>0440206154</td>\n",
              "      <td>8.0</td>\n",
              "      <td>22993</td>\n",
              "      <td>6822</td>\n",
              "    </tr>\n",
              "    <tr>\n",
              "      <th>373697</th>\n",
              "      <td>89610</td>\n",
              "      <td>8880891960</td>\n",
              "      <td>5.0</td>\n",
              "      <td>25753</td>\n",
              "      <td>84887</td>\n",
              "    </tr>\n",
              "    <tr>\n",
              "      <th>309662</th>\n",
              "      <td>74170</td>\n",
              "      <td>0061020656</td>\n",
              "      <td>8.0</td>\n",
              "      <td>21414</td>\n",
              "      <td>43793</td>\n",
              "    </tr>\n",
              "  </tbody>\n",
              "</table>\n",
              "<p>433671 rows × 5 columns</p>\n",
              "</div>\n",
              "      <button class=\"colab-df-convert\" onclick=\"convertToInteractive('df-81c5adb7-fe9e-42e7-925c-4c46cd19b9c6')\"\n",
              "              title=\"Convert this dataframe to an interactive table.\"\n",
              "              style=\"display:none;\">\n",
              "        \n",
              "  <svg xmlns=\"http://www.w3.org/2000/svg\" height=\"24px\"viewBox=\"0 0 24 24\"\n",
              "       width=\"24px\">\n",
              "    <path d=\"M0 0h24v24H0V0z\" fill=\"none\"/>\n",
              "    <path d=\"M18.56 5.44l.94 2.06.94-2.06 2.06-.94-2.06-.94-.94-2.06-.94 2.06-2.06.94zm-11 1L8.5 8.5l.94-2.06 2.06-.94-2.06-.94L8.5 2.5l-.94 2.06-2.06.94zm10 10l.94 2.06.94-2.06 2.06-.94-2.06-.94-.94-2.06-.94 2.06-2.06.94z\"/><path d=\"M17.41 7.96l-1.37-1.37c-.4-.4-.92-.59-1.43-.59-.52 0-1.04.2-1.43.59L10.3 9.45l-7.72 7.72c-.78.78-.78 2.05 0 2.83L4 21.41c.39.39.9.59 1.41.59.51 0 1.02-.2 1.41-.59l7.78-7.78 2.81-2.81c.8-.78.8-2.07 0-2.86zM5.41 20L4 18.59l7.72-7.72 1.47 1.35L5.41 20z\"/>\n",
              "  </svg>\n",
              "      </button>\n",
              "      \n",
              "  <style>\n",
              "    .colab-df-container {\n",
              "      display:flex;\n",
              "      flex-wrap:wrap;\n",
              "      gap: 12px;\n",
              "    }\n",
              "\n",
              "    .colab-df-convert {\n",
              "      background-color: #E8F0FE;\n",
              "      border: none;\n",
              "      border-radius: 50%;\n",
              "      cursor: pointer;\n",
              "      display: none;\n",
              "      fill: #1967D2;\n",
              "      height: 32px;\n",
              "      padding: 0 0 0 0;\n",
              "      width: 32px;\n",
              "    }\n",
              "\n",
              "    .colab-df-convert:hover {\n",
              "      background-color: #E2EBFA;\n",
              "      box-shadow: 0px 1px 2px rgba(60, 64, 67, 0.3), 0px 1px 3px 1px rgba(60, 64, 67, 0.15);\n",
              "      fill: #174EA6;\n",
              "    }\n",
              "\n",
              "    [theme=dark] .colab-df-convert {\n",
              "      background-color: #3B4455;\n",
              "      fill: #D2E3FC;\n",
              "    }\n",
              "\n",
              "    [theme=dark] .colab-df-convert:hover {\n",
              "      background-color: #434B5C;\n",
              "      box-shadow: 0px 1px 3px 1px rgba(0, 0, 0, 0.15);\n",
              "      filter: drop-shadow(0px 1px 2px rgba(0, 0, 0, 0.3));\n",
              "      fill: #FFFFFF;\n",
              "    }\n",
              "  </style>\n",
              "\n",
              "      <script>\n",
              "        const buttonEl =\n",
              "          document.querySelector('#df-81c5adb7-fe9e-42e7-925c-4c46cd19b9c6 button.colab-df-convert');\n",
              "        buttonEl.style.display =\n",
              "          google.colab.kernel.accessAllowed ? 'block' : 'none';\n",
              "\n",
              "        async function convertToInteractive(key) {\n",
              "          const element = document.querySelector('#df-81c5adb7-fe9e-42e7-925c-4c46cd19b9c6');\n",
              "          const dataTable =\n",
              "            await google.colab.kernel.invokeFunction('convertToInteractive',\n",
              "                                                     [key], {});\n",
              "          if (!dataTable) return;\n",
              "\n",
              "          const docLinkHtml = 'Like what you see? Visit the ' +\n",
              "            '<a target=\"_blank\" href=https://colab.research.google.com/notebooks/data_table.ipynb>data table notebook</a>'\n",
              "            + ' to learn more about interactive tables.';\n",
              "          element.innerHTML = '';\n",
              "          dataTable['output_type'] = 'display_data';\n",
              "          await google.colab.output.renderOutput(dataTable, element);\n",
              "          const docLink = document.createElement('div');\n",
              "          docLink.innerHTML = docLinkHtml;\n",
              "          element.appendChild(docLink);\n",
              "        }\n",
              "      </script>\n",
              "    </div>\n",
              "  </div>\n",
              "  "
            ],
            "text/plain": [
              "         User-ID        ISBN  Book-Rating   user    book\n",
              "144846     32440  0380018179          8.0   9713    1013\n",
              "211411     49144  8422641127          5.0  14390   54663\n",
              "647520    156424  3442453844          7.0  44370  127953\n",
              "30124       7125  0060586125          8.0   2587   10359\n",
              "1052982   251606  0316789844          8.0  70897    7053\n",
              "...          ...         ...          ...    ...     ...\n",
              "658592    159834  0441132456          7.0  45235   70428\n",
              "958724    231613  0747542333          5.0  65186   33018\n",
              "335707     79923  0440206154          8.0  22993    6822\n",
              "373697     89610  8880891960          5.0  25753   84887\n",
              "309662     74170  0061020656          8.0  21414   43793\n",
              "\n",
              "[433671 rows x 5 columns]"
            ]
          },
          "metadata": {},
          "execution_count": 39
        }
      ]
    },
    {
      "cell_type": "code",
      "source": [
        "# pilih data fitur/independen\n",
        "x = df[['user', 'book']].values\n",
        " \n",
        "# pilih rating sebagai label/output/dependen\n",
        "y = df['Book-Rating'].apply(lambda x: (x - min_rating) / (max_rating - min_rating)).values\n",
        " \n",
        "# bagi menjadi 80% data latih dan 20% data validasi\n",
        "train_indices = int(0.8 * df.shape[0])\n",
        "x_train, x_val, y_train, y_val = (\n",
        "    x[:train_indices],\n",
        "    x[train_indices:],\n",
        "    y[:train_indices],\n",
        "    y[train_indices:]\n",
        ")\n",
        " \n",
        "print(x, y)"
      ],
      "metadata": {
        "colab": {
          "base_uri": "https://localhost:8080/"
        },
        "id": "KPeWm-JG8zGN",
        "outputId": "abd90fd3-1cb9-482f-95a3-692ec0a9a65b"
      },
      "execution_count": null,
      "outputs": [
        {
          "output_type": "stream",
          "name": "stdout",
          "text": [
            "[[  9713   1013]\n",
            " [ 14390  54663]\n",
            " [ 44370 127953]\n",
            " ...\n",
            " [ 22993   6822]\n",
            " [ 25753  84887]\n",
            " [ 21414  43793]] [0.77777778 0.44444444 0.66666667 ... 0.77777778 0.44444444 0.77777778]\n"
          ]
        }
      ]
    },
    {
      "cell_type": "markdown",
      "source": [
        "# Modeling"
      ],
      "metadata": {
        "id": "QdXkKXfgUIhR"
      }
    },
    {
      "cell_type": "code",
      "source": [
        "import tensorflow as tf\n",
        "from tensorflow import keras\n",
        "from tensorflow.keras import layers\n",
        "\n",
        "class RecommenderNet(tf.keras.Model):\n",
        "  # menggunakan teknik embedding untuk menghitung kecocokan data user dan buku\n",
        "  # insialisasi constructor\n",
        "  def __init__(self, num_users, num_book, embedding_size, **kwargs):\n",
        "    super(RecommenderNet, self).__init__(**kwargs)\n",
        "    self.num_users = num_users\n",
        "    self.num_book = num_book\n",
        "    self.embedding_size = embedding_size\n",
        "    self.user_embedding = layers.Embedding( # layer embedding user\n",
        "        num_users,\n",
        "        embedding_size,\n",
        "        embeddings_initializer = 'he_normal',\n",
        "        embeddings_regularizer = keras.regularizers.l2(1e-6)\n",
        "    )\n",
        "    self.user_bias = layers.Embedding(num_users, 1) # layer embedding user bias\n",
        "    self.resto_embedding = layers.Embedding( # layer embeddings resto\n",
        "        num_book,\n",
        "        embedding_size,\n",
        "        embeddings_initializer = 'he_normal',\n",
        "        embeddings_regularizer = keras.regularizers.l2(1e-6)\n",
        "    )\n",
        "    self.book_bias = layers.Embedding(num_book, 1) # layer embedding book bias\n",
        " \n",
        "  def call(self, inputs):\n",
        "    user_vector = self.user_embedding(inputs[:,0]) # memanggil layer embedding 1\n",
        "    user_bias = self.user_bias(inputs[:, 0]) # memanggil layer embedding 2\n",
        "    book_vector = self.resto_embedding(inputs[:, 1]) # memanggil layer embedding 3\n",
        "    book_bias = self.book_bias(inputs[:, 1]) # memanggil layer embedding 4\n",
        " \n",
        "    dot_user_book = tf.tensordot(user_vector, book_vector, 2) \n",
        " \n",
        "    x = dot_user_book + user_bias + book_bias\n",
        "    \n",
        "    return tf.nn.sigmoid(x) # activation sigmoid"
      ],
      "metadata": {
        "id": "ULwO-0BJ9Drs"
      },
      "execution_count": null,
      "outputs": []
    },
    {
      "cell_type": "code",
      "source": [
        "model = RecommenderNet(num_users, num_book, 50) # inisialisasi model\n",
        " \n",
        "# model compile\n",
        "model.compile(\n",
        "    loss = tf.keras.losses.BinaryCrossentropy(),\n",
        "    optimizer = keras.optimizers.Adam(learning_rate=0.001),\n",
        "    metrics=[tf.keras.metrics.RootMeanSquaredError()]\n",
        ")"
      ],
      "metadata": {
        "id": "dOv7gtii9z93"
      },
      "execution_count": null,
      "outputs": []
    },
    {
      "cell_type": "code",
      "source": [
        "# Memulai training\n",
        "history = model.fit(\n",
        "    x = x_train,\n",
        "    y = y_train,\n",
        "    batch_size = 16,\n",
        "    epochs = 30,\n",
        "    steps_per_epoch = 300,\n",
        "    # validation_steps = 50,\n",
        "    validation_data = (x_val, y_val)\n",
        ")"
      ],
      "metadata": {
        "colab": {
          "base_uri": "https://localhost:8080/"
        },
        "id": "0cKZ2Awy96IN",
        "outputId": "95f045da-ecce-44f8-fe8d-d62b5fe66a1d"
      },
      "execution_count": null,
      "outputs": [
        {
          "output_type": "stream",
          "name": "stdout",
          "text": [
            "Epoch 1/30\n",
            "300/300 [==============================] - 170s 558ms/step - loss: 0.6920 - root_mean_squared_error: 0.3114 - val_loss: 0.6905 - val_root_mean_squared_error: 0.3083\n",
            "Epoch 2/30\n",
            "300/300 [==============================] - 183s 611ms/step - loss: 0.6890 - root_mean_squared_error: 0.3079 - val_loss: 0.6872 - val_root_mean_squared_error: 0.3056\n",
            "Epoch 3/30\n",
            "300/300 [==============================] - 173s 579ms/step - loss: 0.6854 - root_mean_squared_error: 0.3047 - val_loss: 0.6840 - val_root_mean_squared_error: 0.3029\n",
            "Epoch 4/30\n",
            "300/300 [==============================] - 167s 557ms/step - loss: 0.6823 - root_mean_squared_error: 0.3021 - val_loss: 0.6809 - val_root_mean_squared_error: 0.3002\n",
            "Epoch 5/30\n",
            "300/300 [==============================] - 165s 551ms/step - loss: 0.6795 - root_mean_squared_error: 0.2957 - val_loss: 0.6779 - val_root_mean_squared_error: 0.2977\n",
            "Epoch 6/30\n",
            "300/300 [==============================] - 166s 553ms/step - loss: 0.6764 - root_mean_squared_error: 0.2982 - val_loss: 0.6751 - val_root_mean_squared_error: 0.2952\n",
            "Epoch 7/30\n",
            "300/300 [==============================] - 164s 548ms/step - loss: 0.6746 - root_mean_squared_error: 0.2953 - val_loss: 0.6724 - val_root_mean_squared_error: 0.2929\n",
            "Epoch 8/30\n",
            "300/300 [==============================] - 162s 541ms/step - loss: 0.6723 - root_mean_squared_error: 0.2928 - val_loss: 0.6697 - val_root_mean_squared_error: 0.2905\n",
            "Epoch 9/30\n",
            "300/300 [==============================] - 163s 544ms/step - loss: 0.6688 - root_mean_squared_error: 0.2890 - val_loss: 0.6671 - val_root_mean_squared_error: 0.2882\n",
            "Epoch 10/30\n",
            "300/300 [==============================] - 164s 548ms/step - loss: 0.6650 - root_mean_squared_error: 0.2892 - val_loss: 0.6645 - val_root_mean_squared_error: 0.2859\n",
            "Epoch 11/30\n",
            "300/300 [==============================] - 165s 551ms/step - loss: 0.6638 - root_mean_squared_error: 0.2841 - val_loss: 0.6619 - val_root_mean_squared_error: 0.2836\n",
            "Epoch 12/30\n",
            "300/300 [==============================] - 164s 550ms/step - loss: 0.6612 - root_mean_squared_error: 0.2819 - val_loss: 0.6594 - val_root_mean_squared_error: 0.2813\n",
            "Epoch 13/30\n",
            "300/300 [==============================] - 164s 549ms/step - loss: 0.6570 - root_mean_squared_error: 0.2805 - val_loss: 0.6566 - val_root_mean_squared_error: 0.2788\n",
            "Epoch 14/30\n",
            "300/300 [==============================] - 165s 553ms/step - loss: 0.6561 - root_mean_squared_error: 0.2734 - val_loss: 0.6540 - val_root_mean_squared_error: 0.2764\n",
            "Epoch 15/30\n",
            "300/300 [==============================] - 164s 548ms/step - loss: 0.6535 - root_mean_squared_error: 0.2759 - val_loss: 0.6513 - val_root_mean_squared_error: 0.2739\n",
            "Epoch 16/30\n",
            "300/300 [==============================] - 163s 543ms/step - loss: 0.6481 - root_mean_squared_error: 0.2680 - val_loss: 0.6483 - val_root_mean_squared_error: 0.2711\n",
            "Epoch 17/30\n",
            "300/300 [==============================] - 165s 551ms/step - loss: 0.6479 - root_mean_squared_error: 0.2713 - val_loss: 0.6453 - val_root_mean_squared_error: 0.2682\n",
            "Epoch 18/30\n",
            "300/300 [==============================] - 162s 542ms/step - loss: 0.6429 - root_mean_squared_error: 0.2690 - val_loss: 0.6420 - val_root_mean_squared_error: 0.2651\n",
            "Epoch 19/30\n",
            "300/300 [==============================] - 165s 553ms/step - loss: 0.6405 - root_mean_squared_error: 0.2654 - val_loss: 0.6387 - val_root_mean_squared_error: 0.2620\n",
            "Epoch 20/30\n",
            "300/300 [==============================] - 162s 541ms/step - loss: 0.6372 - root_mean_squared_error: 0.2618 - val_loss: 0.6351 - val_root_mean_squared_error: 0.2586\n",
            "Epoch 21/30\n",
            "300/300 [==============================] - 166s 553ms/step - loss: 0.6291 - root_mean_squared_error: 0.2549 - val_loss: 0.6312 - val_root_mean_squared_error: 0.2549\n",
            "Epoch 22/30\n",
            "300/300 [==============================] - 165s 551ms/step - loss: 0.6269 - root_mean_squared_error: 0.2513 - val_loss: 0.6273 - val_root_mean_squared_error: 0.2510\n",
            "Epoch 23/30\n",
            "300/300 [==============================] - 167s 559ms/step - loss: 0.6243 - root_mean_squared_error: 0.2528 - val_loss: 0.6232 - val_root_mean_squared_error: 0.2470\n",
            "Epoch 24/30\n",
            "300/300 [==============================] - 162s 542ms/step - loss: 0.6193 - root_mean_squared_error: 0.2439 - val_loss: 0.6195 - val_root_mean_squared_error: 0.2433\n",
            "Epoch 25/30\n",
            "300/300 [==============================] - 166s 554ms/step - loss: 0.6161 - root_mean_squared_error: 0.2397 - val_loss: 0.6159 - val_root_mean_squared_error: 0.2396\n",
            "Epoch 26/30\n",
            "300/300 [==============================] - 163s 544ms/step - loss: 0.6123 - root_mean_squared_error: 0.2367 - val_loss: 0.6124 - val_root_mean_squared_error: 0.2360\n",
            "Epoch 27/30\n",
            "300/300 [==============================] - 168s 561ms/step - loss: 0.6137 - root_mean_squared_error: 0.2357 - val_loss: 0.6092 - val_root_mean_squared_error: 0.2327\n",
            "Epoch 28/30\n",
            "300/300 [==============================] - 163s 544ms/step - loss: 0.6098 - root_mean_squared_error: 0.2301 - val_loss: 0.6062 - val_root_mean_squared_error: 0.2296\n",
            "Epoch 29/30\n",
            "300/300 [==============================] - 162s 542ms/step - loss: 0.5997 - root_mean_squared_error: 0.2262 - val_loss: 0.6037 - val_root_mean_squared_error: 0.2269\n",
            "Epoch 30/30\n",
            "300/300 [==============================] - 167s 558ms/step - loss: 0.6004 - root_mean_squared_error: 0.2246 - val_loss: 0.6016 - val_root_mean_squared_error: 0.2246\n"
          ]
        }
      ]
    },
    {
      "cell_type": "markdown",
      "source": [
        "# Evaluation"
      ],
      "metadata": {
        "id": "U3cGxO4XULif"
      }
    },
    {
      "cell_type": "code",
      "source": [
        "# lihat visualisasi metrik model\n",
        "plt.plot(history.history['root_mean_squared_error'])\n",
        "plt.plot(history.history['val_root_mean_squared_error'])\n",
        "plt.title('model_metrics')\n",
        "plt.ylabel('root_mean_squared_error')\n",
        "plt.xlabel('epoch')\n",
        "plt.legend(['train', 'test'], loc='upper left')\n",
        "plt.show()"
      ],
      "metadata": {
        "colab": {
          "base_uri": "https://localhost:8080/",
          "height": 295
        },
        "id": "sbeKiNlR98SN",
        "outputId": "903a8c52-c47f-4150-de69-1e01cc40fc69"
      },
      "execution_count": null,
      "outputs": [
        {
          "output_type": "display_data",
          "data": {
            "image/png": "[encoded data removed]",
            "text/plain": [
              "<Figure size 432x288 with 1 Axes>"
            ]
          },
          "metadata": {
            "needs_background": "light"
          }
        }
      ]
    },
    {
      "cell_type": "markdown",
      "source": [
        ">**Pembahasan:** <br>\n",
        "Nilai error pada data latih dan validasi model memiliki nilai yang relatif sama. Bahkan pada iterasi terakhir memiliki nilai error yang persis sama yaitu `0.2246`. Nilai tersebut cukup baik untuk pemodelan sistem rekomendasi."
      ],
      "metadata": {
        "id": "qrGwhSF9evqb"
      }
    },
    {
      "cell_type": "code",
      "source": [
        "# menghubungkan data rating dengan buku dengan kolom ISBN\n",
        "df_mix = pd.merge(df_rating, df_book, on='ISBN')\n",
        "\n",
        "# hapus data ISBN yang kembar sehingga hanya memiliki nilai yang unik saja\n",
        "df_mix.drop_duplicates('ISBN', inplace=True)"
      ],
      "metadata": {
        "id": "5ApZDbrMXtOX"
      },
      "execution_count": null,
      "outputs": []
    },
    {
      "cell_type": "code",
      "source": [
        "# ambil data kolom ISBN menjadi dalam bentuk list\n",
        "book_id = df_mix['ISBN'].tolist()\n",
        " \n",
        "# ambil data kolom title menjadi dalam bentuk list\n",
        "book_title = df_mix['Book-Title'].tolist()\n",
        " \n",
        "# ambil data kolom author menjadi dalam bentuk list\n",
        "book_author = df_mix['Book-Author'].tolist()\n",
        "\n",
        "# cek ukuran datanya\n",
        "print(len(book_id))\n",
        "print(len(book_title))\n",
        "print(len(book_author))"
      ],
      "metadata": {
        "colab": {
          "base_uri": "https://localhost:8080/"
        },
        "id": "2peIrxeUt7LR",
        "outputId": "f245d0d3-2e81-4aeb-f5d1-1843c6a291e0"
      },
      "execution_count": null,
      "outputs": [
        {
          "output_type": "stream",
          "name": "stdout",
          "text": [
            "149836\n",
            "149836\n",
            "149836\n"
          ]
        }
      ]
    },
    {
      "cell_type": "code",
      "source": [
        "# buat dataframe khusus dengan list sebelumnya\n",
        "book_df = pd.DataFrame({\n",
        "    'ISBN': book_id,\n",
        "    'title': book_title,\n",
        "    'author': book_author\n",
        "})\n",
        "\n",
        "book_df.head()"
      ],
      "metadata": {
        "colab": {
          "base_uri": "https://localhost:8080/",
          "height": 206
        },
        "id": "aiN78DLtuG-H",
        "outputId": "1e94d546-d0ae-4c59-8c02-75f5d9a7ec80"
      },
      "execution_count": null,
      "outputs": [
        {
          "output_type": "execute_result",
          "data": {
            "text/html": [
              "\n",
              "  <div id=\"df-149d86ac-e11c-4147-a4e3-88e0010aadb0\">\n",
              "    <div class=\"colab-df-container\">\n",
              "      <div>\n",
              "<style scoped>\n",
              "    .dataframe tbody tr th:only-of-type {\n",
              "        vertical-align: middle;\n",
              "    }\n",
              "\n",
              "    .dataframe tbody tr th {\n",
              "        vertical-align: top;\n",
              "    }\n",
              "\n",
              "    .dataframe thead th {\n",
              "        text-align: right;\n",
              "    }\n",
              "</style>\n",
              "<table border=\"1\" class=\"dataframe\">\n",
              "  <thead>\n",
              "    <tr style=\"text-align: right;\">\n",
              "      <th></th>\n",
              "      <th>ISBN</th>\n",
              "      <th>title</th>\n",
              "      <th>author</th>\n",
              "    </tr>\n",
              "  </thead>\n",
              "  <tbody>\n",
              "    <tr>\n",
              "      <th>0</th>\n",
              "      <td>0155061224</td>\n",
              "      <td>Rites of Passage</td>\n",
              "      <td>Judith Rae</td>\n",
              "    </tr>\n",
              "    <tr>\n",
              "      <th>1</th>\n",
              "      <td>052165615X</td>\n",
              "      <td>Help!: Level 1</td>\n",
              "      <td>Philip Prowse</td>\n",
              "    </tr>\n",
              "    <tr>\n",
              "      <th>2</th>\n",
              "      <td>0521795028</td>\n",
              "      <td>The Amsterdam Connection : Level 4 (Cambridge ...</td>\n",
              "      <td>Sue Leather</td>\n",
              "    </tr>\n",
              "    <tr>\n",
              "      <th>3</th>\n",
              "      <td>038550120X</td>\n",
              "      <td>A Painted House</td>\n",
              "      <td>JOHN GRISHAM</td>\n",
              "    </tr>\n",
              "    <tr>\n",
              "      <th>4</th>\n",
              "      <td>0060517794</td>\n",
              "      <td>Little Altars Everywhere</td>\n",
              "      <td>Rebecca Wells</td>\n",
              "    </tr>\n",
              "  </tbody>\n",
              "</table>\n",
              "</div>\n",
              "      <button class=\"colab-df-convert\" onclick=\"convertToInteractive('df-149d86ac-e11c-4147-a4e3-88e0010aadb0')\"\n",
              "              title=\"Convert this dataframe to an interactive table.\"\n",
              "              style=\"display:none;\">\n",
              "        \n",
              "  <svg xmlns=\"http://www.w3.org/2000/svg\" height=\"24px\"viewBox=\"0 0 24 24\"\n",
              "       width=\"24px\">\n",
              "    <path d=\"M0 0h24v24H0V0z\" fill=\"none\"/>\n",
              "    <path d=\"M18.56 5.44l.94 2.06.94-2.06 2.06-.94-2.06-.94-.94-2.06-.94 2.06-2.06.94zm-11 1L8.5 8.5l.94-2.06 2.06-.94-2.06-.94L8.5 2.5l-.94 2.06-2.06.94zm10 10l.94 2.06.94-2.06 2.06-.94-2.06-.94-.94-2.06-.94 2.06-2.06.94z\"/><path d=\"M17.41 7.96l-1.37-1.37c-.4-.4-.92-.59-1.43-.59-.52 0-1.04.2-1.43.59L10.3 9.45l-7.72 7.72c-.78.78-.78 2.05 0 2.83L4 21.41c.39.39.9.59 1.41.59.51 0 1.02-.2 1.41-.59l7.78-7.78 2.81-2.81c.8-.78.8-2.07 0-2.86zM5.41 20L4 18.59l7.72-7.72 1.47 1.35L5.41 20z\"/>\n",
              "  </svg>\n",
              "      </button>\n",
              "      \n",
              "  <style>\n",
              "    .colab-df-container {\n",
              "      display:flex;\n",
              "      flex-wrap:wrap;\n",
              "      gap: 12px;\n",
              "    }\n",
              "\n",
              "    .colab-df-convert {\n",
              "      background-color: #E8F0FE;\n",
              "      border: none;\n",
              "      border-radius: 50%;\n",
              "      cursor: pointer;\n",
              "      display: none;\n",
              "      fill: #1967D2;\n",
              "      height: 32px;\n",
              "      padding: 0 0 0 0;\n",
              "      width: 32px;\n",
              "    }\n",
              "\n",
              "    .colab-df-convert:hover {\n",
              "      background-color: #E2EBFA;\n",
              "      box-shadow: 0px 1px 2px rgba(60, 64, 67, 0.3), 0px 1px 3px 1px rgba(60, 64, 67, 0.15);\n",
              "      fill: #174EA6;\n",
              "    }\n",
              "\n",
              "    [theme=dark] .colab-df-convert {\n",
              "      background-color: #3B4455;\n",
              "      fill: #D2E3FC;\n",
              "    }\n",
              "\n",
              "    [theme=dark] .colab-df-convert:hover {\n",
              "      background-color: #434B5C;\n",
              "      box-shadow: 0px 1px 3px 1px rgba(0, 0, 0, 0.15);\n",
              "      filter: drop-shadow(0px 1px 2px rgba(0, 0, 0, 0.3));\n",
              "      fill: #FFFFFF;\n",
              "    }\n",
              "  </style>\n",
              "\n",
              "      <script>\n",
              "        const buttonEl =\n",
              "          document.querySelector('#df-149d86ac-e11c-4147-a4e3-88e0010aadb0 button.colab-df-convert');\n",
              "        buttonEl.style.display =\n",
              "          google.colab.kernel.accessAllowed ? 'block' : 'none';\n",
              "\n",
              "        async function convertToInteractive(key) {\n",
              "          const element = document.querySelector('#df-149d86ac-e11c-4147-a4e3-88e0010aadb0');\n",
              "          const dataTable =\n",
              "            await google.colab.kernel.invokeFunction('convertToInteractive',\n",
              "                                                     [key], {});\n",
              "          if (!dataTable) return;\n",
              "\n",
              "          const docLinkHtml = 'Like what you see? Visit the ' +\n",
              "            '<a target=\"_blank\" href=https://colab.research.google.com/notebooks/data_table.ipynb>data table notebook</a>'\n",
              "            + ' to learn more about interactive tables.';\n",
              "          element.innerHTML = '';\n",
              "          dataTable['output_type'] = 'display_data';\n",
              "          await google.colab.output.renderOutput(dataTable, element);\n",
              "          const docLink = document.createElement('div');\n",
              "          docLink.innerHTML = docLinkHtml;\n",
              "          element.appendChild(docLink);\n",
              "        }\n",
              "      </script>\n",
              "    </div>\n",
              "  </div>\n",
              "  "
            ],
            "text/plain": [
              "         ISBN                                              title         author\n",
              "0  0155061224                                   Rites of Passage     Judith Rae\n",
              "1  052165615X                                     Help!: Level 1  Philip Prowse\n",
              "2  0521795028  The Amsterdam Connection : Level 4 (Cambridge ...    Sue Leather\n",
              "3  038550120X                                    A Painted House   JOHN GRISHAM\n",
              "4  0060517794                           Little Altars Everywhere  Rebecca Wells"
            ]
          },
          "metadata": {},
          "execution_count": 53
        }
      ]
    },
    {
      "cell_type": "code",
      "source": [
        "# ambil sampel salah satu user\n",
        "user_id = df_rating['User-ID'].sample(1).iloc[0]\n",
        "\n",
        "# data buku yang dibaca user\n",
        "book_read_by_user = df_rating[df_rating['User-ID'] == user_id]\n",
        " \n",
        "# filter data yang belum pernah dibaca user\n",
        "book_not_read = book_df[~book_df['ISBN'].isin(book_read_by_user['ISBN'].values)]['ISBN'] \n",
        "book_not_read = list(\n",
        "    set(book_not_read)\n",
        "    .intersection(set(book_to_book_encoded.keys()))\n",
        ")\n",
        " \n",
        "book_not_read = [[book_to_book_encoded.get(x)] for x in book_not_read]\n",
        "user_encoder = user_to_user_encoded.get(user_id)\n",
        "user_book_array = np.hstack(\n",
        "    ([[user_encoder]] * len(book_not_read), book_not_read)\n",
        ")"
      ],
      "metadata": {
        "id": "hsCszPsZXyyY"
      },
      "execution_count": null,
      "outputs": []
    },
    {
      "cell_type": "code",
      "source": [
        "# prediksi kecocokan terhadap buku yang telah dibaca\n",
        "ratings = model.predict(user_book_array).flatten()\n",
        "\n",
        "# 10 hasi prediksi terbaik\n",
        "top_ratings_indices = ratings.argsort()[-10:][::-1]\n",
        "recommended_book_ids = [\n",
        "    book_encoded_to_book.get(book_not_read[x][0]) for x in top_ratings_indices\n",
        "]"
      ],
      "metadata": {
        "id": "Cs8CPSKSpPne"
      },
      "execution_count": null,
      "outputs": []
    },
    {
      "cell_type": "code",
      "source": [
        "print('Showing recommendations for users: {}'.format(user_id))\n",
        "print('===' * 9)\n",
        "print('Book with high ratings from user')\n",
        "print('----' * 8)\n",
        " \n",
        "top_book_user = (\n",
        "    book_read_by_user.sort_values(\n",
        "        by = 'Book-Rating',\n",
        "        ascending=False\n",
        "    )\n",
        "    .head(10)['ISBN'].values\n",
        ")\n",
        "\n",
        "book_df_rows = book_df[book_df['ISBN'].isin(top_book_user)]\n",
        "for row in book_df_rows.itertuples():\n",
        "    print(f'{row.title} : {row.author}')"
      ],
      "metadata": {
        "colab": {
          "base_uri": "https://localhost:8080/"
        },
        "id": "yFWxD6_vpaUC",
        "outputId": "7161693d-6395-4072-f924-eaa4e3acded0"
      },
      "execution_count": null,
      "outputs": [
        {
          "output_type": "stream",
          "name": "stdout",
          "text": [
            "Showing recommendations for users: 239423\n",
            "===========================\n",
            "Book with high ratings from user\n",
            "--------------------------------\n",
            "Harry Potter and the Sorcerer's Stone (Book 1) : J. K. Rowling\n",
            "Pope Joan (Ballantine Reader's Circle) : Donna Woolfolk Cross\n",
            "Emily of New Moon : L.M. MONTGOMERY\n",
            "Poodles: A Book of Postcards : Andrews McMeel Publishing\n",
            "The Onion Girl (Newford) : Charles de Lint\n",
            "Prophecy: Child of Earth : Elizabeth Haydon\n",
            "Vincalis the Agitator : Holly Lisle\n",
            "The Gates of Sleep : Mercedes Lackey\n",
            "Thendara House : Marion Zimm Bradley\n",
            "Emily's Quest : L. M. Montgomery\n"
          ]
        }
      ]
    },
    {
      "cell_type": "code",
      "source": [
        "print('----' * 8)\n",
        "print('Top 10 book recommendation')\n",
        "print('----' * 8)\n",
        " \n",
        "recommended_book = book_df[book_df['ISBN'].isin(recommended_book_ids)]\n",
        "for row in recommended_book.itertuples():\n",
        "    print(f'{row.title} : {row.author}')"
      ],
      "metadata": {
        "colab": {
          "base_uri": "https://localhost:8080/"
        },
        "id": "h79pK0xImlMX",
        "outputId": "ed2cb75b-cdb2-4ffa-d8db-20efae4461fa"
      },
      "execution_count": null,
      "outputs": [
        {
          "output_type": "stream",
          "name": "stdout",
          "text": [
            "--------------------------------\n",
            "Top 10 book recommendation\n",
            "--------------------------------\n",
            "The Da Vinci Code : Dan Brown\n",
            "To Kill a Mockingbird : Harper Lee\n",
            "Girl with a Pearl Earring : Tracy Chevalier\n",
            "The Red Tent (Bestselling Backlist) : Anita Diamant\n",
            "The Lovely Bones: A Novel : Alice Sebold\n",
            "The Secret Life of Bees : Sue Monk Kidd\n",
            "Where the Heart Is (Oprah's Book Club (Paperback)) : Billie Letts\n",
            "The Joy Luck Club : Amy Tan\n",
            "Harry Potter and the Sorcerer's Stone (Harry Potter (Paperback)) : J. K. Rowling\n",
            "Harry Potter and the Chamber of Secrets (Book 2) : J. K. Rowling\n"
          ]
        }
      ]
    },
    {
      "cell_type": "markdown",
      "source": [
        ">**Pembahasan:** <br>\n",
        "Dari output hasil rekomendasi terhadap pengguna di atas, dapat terlihat kesesuaian dari rekomendasi yang diberikan, sebab terlihat pengguna pernah membaca buku Harry Potter kemudian sistem merekomendasikan untuk membaca buku Harry Potter lainnya."
      ],
      "metadata": {
        "id": "DvNpBF-EqidC"
      }
    }
  ]
}